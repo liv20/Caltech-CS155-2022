{
  "nbformat": 4,
  "nbformat_minor": 0,
  "metadata": {
    "colab": {
      "name": "data_processing.ipynb",
      "provenance": [],
      "collapsed_sections": [],
      "include_colab_link": true
    },
    "kernelspec": {
      "name": "python3",
      "display_name": "Python 3"
    },
    "language_info": {
      "name": "python"
    }
  },
  "cells": [
    {
      "cell_type": "markdown",
      "metadata": {
        "id": "view-in-github",
        "colab_type": "text"
      },
      "source": [
        "<a href=\"https://colab.research.google.com/github/liv20/Caltech-CS155-2022/blob/main/xgboost.ipynb\" target=\"_parent\"><img src=\"https://colab.research.google.com/assets/colab-badge.svg\" alt=\"Open In Colab\"/></a>"
      ]
    },
    {
      "cell_type": "code",
      "execution_count": 1,
      "metadata": {
        "id": "f9K7XoMVPMxb"
      },
      "outputs": [],
      "source": [
        "import numpy as np # linear algebra\n",
        "import pandas as pd # data processing, CSV file I/O (e.g. pd.read_csv)\n",
        "\n",
        "import matplotlib.pyplot as plt\n",
        "import seaborn as sns\n",
        "\n",
        "import sklearn\n",
        "\n",
        "import scipy\n",
        "\n",
        "train_file = 'https://raw.githubusercontent.com/derekqin8/Caltech-CS155-2022/main/mps/CS155_mp1/data/LOANS_TRAIN.csv'\n",
        "test_file = 'https://raw.githubusercontent.com/derekqin8/Caltech-CS155-2022/main/mps/CS155_mp1/data/LOANS_TEST.csv'"
      ]
    },
    {
      "cell_type": "code",
      "source": [
        "df = pd.read_csv(train_file)\n",
        "test_df = pd.read_csv(test_file)\n",
        "df.head()"
      ],
      "metadata": {
        "colab": {
          "base_uri": "https://localhost:8080/",
          "height": 409
        },
        "id": "3I1pTOWmPdad",
        "outputId": "3f9e1083-45dd-42ea-907d-558110dd4a9a"
      },
      "execution_count": 2,
      "outputs": [
        {
          "output_type": "execute_result",
          "data": {
            "text/html": [
              "\n",
              "  <div id=\"df-f81bb346-9759-4369-8965-7571c0267432\">\n",
              "    <div class=\"colab-df-container\">\n",
              "      <div>\n",
              "<style scoped>\n",
              "    .dataframe tbody tr th:only-of-type {\n",
              "        vertical-align: middle;\n",
              "    }\n",
              "\n",
              "    .dataframe tbody tr th {\n",
              "        vertical-align: top;\n",
              "    }\n",
              "\n",
              "    .dataframe thead th {\n",
              "        text-align: right;\n",
              "    }\n",
              "</style>\n",
              "<table border=\"1\" class=\"dataframe\">\n",
              "  <thead>\n",
              "    <tr style=\"text-align: right;\">\n",
              "      <th></th>\n",
              "      <th>id</th>\n",
              "      <th>loan_amnt</th>\n",
              "      <th>term_(months)</th>\n",
              "      <th>int_rate</th>\n",
              "      <th>installment</th>\n",
              "      <th>grade</th>\n",
              "      <th>sub_grade</th>\n",
              "      <th>emp_title</th>\n",
              "      <th>emp_length</th>\n",
              "      <th>home_ownership</th>\n",
              "      <th>annual_inc</th>\n",
              "      <th>verification_status</th>\n",
              "      <th>issue_d</th>\n",
              "      <th>purpose</th>\n",
              "      <th>title</th>\n",
              "      <th>zip_code</th>\n",
              "      <th>addr_state</th>\n",
              "      <th>dti</th>\n",
              "      <th>earliest_cr_line</th>\n",
              "      <th>open_acc</th>\n",
              "      <th>pub_rec</th>\n",
              "      <th>revol_bal</th>\n",
              "      <th>revol_util</th>\n",
              "      <th>total_acc</th>\n",
              "      <th>initial_list_status</th>\n",
              "      <th>application_type</th>\n",
              "      <th>mort_acc</th>\n",
              "      <th>pub_rec_bankruptcies</th>\n",
              "      <th>loan_status</th>\n",
              "    </tr>\n",
              "  </thead>\n",
              "  <tbody>\n",
              "    <tr>\n",
              "      <th>0</th>\n",
              "      <td>0</td>\n",
              "      <td>5000</td>\n",
              "      <td>36</td>\n",
              "      <td>10.65%</td>\n",
              "      <td>162.87</td>\n",
              "      <td>B</td>\n",
              "      <td>B2</td>\n",
              "      <td>NaN</td>\n",
              "      <td>10+ years</td>\n",
              "      <td>RENT</td>\n",
              "      <td>24000.0</td>\n",
              "      <td>Verified</td>\n",
              "      <td>Dec-2011</td>\n",
              "      <td>credit_card</td>\n",
              "      <td>Computer</td>\n",
              "      <td>860xx</td>\n",
              "      <td>AZ</td>\n",
              "      <td>27.65</td>\n",
              "      <td>Jan-1985</td>\n",
              "      <td>3</td>\n",
              "      <td>0</td>\n",
              "      <td>13648</td>\n",
              "      <td>83.7%</td>\n",
              "      <td>9</td>\n",
              "      <td>f</td>\n",
              "      <td>Individual</td>\n",
              "      <td>NaN</td>\n",
              "      <td>0.0</td>\n",
              "      <td>Fully Paid</td>\n",
              "    </tr>\n",
              "    <tr>\n",
              "      <th>1</th>\n",
              "      <td>1</td>\n",
              "      <td>2500</td>\n",
              "      <td>60</td>\n",
              "      <td>15.27%</td>\n",
              "      <td>59.83</td>\n",
              "      <td>C</td>\n",
              "      <td>C4</td>\n",
              "      <td>Ryder</td>\n",
              "      <td>&lt; 1 year</td>\n",
              "      <td>RENT</td>\n",
              "      <td>30000.0</td>\n",
              "      <td>Source Verified</td>\n",
              "      <td>Dec-2011</td>\n",
              "      <td>car</td>\n",
              "      <td>bike</td>\n",
              "      <td>309xx</td>\n",
              "      <td>GA</td>\n",
              "      <td>1.00</td>\n",
              "      <td>Apr-1999</td>\n",
              "      <td>3</td>\n",
              "      <td>0</td>\n",
              "      <td>1687</td>\n",
              "      <td>9.4%</td>\n",
              "      <td>4</td>\n",
              "      <td>f</td>\n",
              "      <td>Individual</td>\n",
              "      <td>NaN</td>\n",
              "      <td>0.0</td>\n",
              "      <td>Charged Off</td>\n",
              "    </tr>\n",
              "    <tr>\n",
              "      <th>2</th>\n",
              "      <td>2</td>\n",
              "      <td>2400</td>\n",
              "      <td>36</td>\n",
              "      <td>15.96%</td>\n",
              "      <td>84.33</td>\n",
              "      <td>C</td>\n",
              "      <td>C5</td>\n",
              "      <td>NaN</td>\n",
              "      <td>10+ years</td>\n",
              "      <td>RENT</td>\n",
              "      <td>12252.0</td>\n",
              "      <td>Not Verified</td>\n",
              "      <td>Dec-2011</td>\n",
              "      <td>small_business</td>\n",
              "      <td>real estate business</td>\n",
              "      <td>606xx</td>\n",
              "      <td>IL</td>\n",
              "      <td>8.72</td>\n",
              "      <td>Nov-2001</td>\n",
              "      <td>2</td>\n",
              "      <td>0</td>\n",
              "      <td>2956</td>\n",
              "      <td>98.5%</td>\n",
              "      <td>10</td>\n",
              "      <td>f</td>\n",
              "      <td>Individual</td>\n",
              "      <td>NaN</td>\n",
              "      <td>0.0</td>\n",
              "      <td>Fully Paid</td>\n",
              "    </tr>\n",
              "    <tr>\n",
              "      <th>3</th>\n",
              "      <td>3</td>\n",
              "      <td>10000</td>\n",
              "      <td>36</td>\n",
              "      <td>13.49%</td>\n",
              "      <td>339.31</td>\n",
              "      <td>C</td>\n",
              "      <td>C1</td>\n",
              "      <td>AIR RESOURCES BOARD</td>\n",
              "      <td>10+ years</td>\n",
              "      <td>RENT</td>\n",
              "      <td>49200.0</td>\n",
              "      <td>Source Verified</td>\n",
              "      <td>Dec-2011</td>\n",
              "      <td>other</td>\n",
              "      <td>personel</td>\n",
              "      <td>917xx</td>\n",
              "      <td>CA</td>\n",
              "      <td>20.00</td>\n",
              "      <td>Feb-1996</td>\n",
              "      <td>10</td>\n",
              "      <td>0</td>\n",
              "      <td>5598</td>\n",
              "      <td>21%</td>\n",
              "      <td>37</td>\n",
              "      <td>f</td>\n",
              "      <td>Individual</td>\n",
              "      <td>NaN</td>\n",
              "      <td>0.0</td>\n",
              "      <td>Fully Paid</td>\n",
              "    </tr>\n",
              "    <tr>\n",
              "      <th>4</th>\n",
              "      <td>4</td>\n",
              "      <td>3000</td>\n",
              "      <td>60</td>\n",
              "      <td>12.69%</td>\n",
              "      <td>67.79</td>\n",
              "      <td>B</td>\n",
              "      <td>B5</td>\n",
              "      <td>University Medical Group</td>\n",
              "      <td>1 year</td>\n",
              "      <td>RENT</td>\n",
              "      <td>80000.0</td>\n",
              "      <td>Source Verified</td>\n",
              "      <td>Dec-2011</td>\n",
              "      <td>other</td>\n",
              "      <td>Personal</td>\n",
              "      <td>972xx</td>\n",
              "      <td>OR</td>\n",
              "      <td>17.94</td>\n",
              "      <td>Jan-1996</td>\n",
              "      <td>15</td>\n",
              "      <td>0</td>\n",
              "      <td>27783</td>\n",
              "      <td>53.9%</td>\n",
              "      <td>38</td>\n",
              "      <td>f</td>\n",
              "      <td>Individual</td>\n",
              "      <td>NaN</td>\n",
              "      <td>0.0</td>\n",
              "      <td>Fully Paid</td>\n",
              "    </tr>\n",
              "  </tbody>\n",
              "</table>\n",
              "</div>\n",
              "      <button class=\"colab-df-convert\" onclick=\"convertToInteractive('df-f81bb346-9759-4369-8965-7571c0267432')\"\n",
              "              title=\"Convert this dataframe to an interactive table.\"\n",
              "              style=\"display:none;\">\n",
              "        \n",
              "  <svg xmlns=\"http://www.w3.org/2000/svg\" height=\"24px\"viewBox=\"0 0 24 24\"\n",
              "       width=\"24px\">\n",
              "    <path d=\"M0 0h24v24H0V0z\" fill=\"none\"/>\n",
              "    <path d=\"M18.56 5.44l.94 2.06.94-2.06 2.06-.94-2.06-.94-.94-2.06-.94 2.06-2.06.94zm-11 1L8.5 8.5l.94-2.06 2.06-.94-2.06-.94L8.5 2.5l-.94 2.06-2.06.94zm10 10l.94 2.06.94-2.06 2.06-.94-2.06-.94-.94-2.06-.94 2.06-2.06.94z\"/><path d=\"M17.41 7.96l-1.37-1.37c-.4-.4-.92-.59-1.43-.59-.52 0-1.04.2-1.43.59L10.3 9.45l-7.72 7.72c-.78.78-.78 2.05 0 2.83L4 21.41c.39.39.9.59 1.41.59.51 0 1.02-.2 1.41-.59l7.78-7.78 2.81-2.81c.8-.78.8-2.07 0-2.86zM5.41 20L4 18.59l7.72-7.72 1.47 1.35L5.41 20z\"/>\n",
              "  </svg>\n",
              "      </button>\n",
              "      \n",
              "  <style>\n",
              "    .colab-df-container {\n",
              "      display:flex;\n",
              "      flex-wrap:wrap;\n",
              "      gap: 12px;\n",
              "    }\n",
              "\n",
              "    .colab-df-convert {\n",
              "      background-color: #E8F0FE;\n",
              "      border: none;\n",
              "      border-radius: 50%;\n",
              "      cursor: pointer;\n",
              "      display: none;\n",
              "      fill: #1967D2;\n",
              "      height: 32px;\n",
              "      padding: 0 0 0 0;\n",
              "      width: 32px;\n",
              "    }\n",
              "\n",
              "    .colab-df-convert:hover {\n",
              "      background-color: #E2EBFA;\n",
              "      box-shadow: 0px 1px 2px rgba(60, 64, 67, 0.3), 0px 1px 3px 1px rgba(60, 64, 67, 0.15);\n",
              "      fill: #174EA6;\n",
              "    }\n",
              "\n",
              "    [theme=dark] .colab-df-convert {\n",
              "      background-color: #3B4455;\n",
              "      fill: #D2E3FC;\n",
              "    }\n",
              "\n",
              "    [theme=dark] .colab-df-convert:hover {\n",
              "      background-color: #434B5C;\n",
              "      box-shadow: 0px 1px 3px 1px rgba(0, 0, 0, 0.15);\n",
              "      filter: drop-shadow(0px 1px 2px rgba(0, 0, 0, 0.3));\n",
              "      fill: #FFFFFF;\n",
              "    }\n",
              "  </style>\n",
              "\n",
              "      <script>\n",
              "        const buttonEl =\n",
              "          document.querySelector('#df-f81bb346-9759-4369-8965-7571c0267432 button.colab-df-convert');\n",
              "        buttonEl.style.display =\n",
              "          google.colab.kernel.accessAllowed ? 'block' : 'none';\n",
              "\n",
              "        async function convertToInteractive(key) {\n",
              "          const element = document.querySelector('#df-f81bb346-9759-4369-8965-7571c0267432');\n",
              "          const dataTable =\n",
              "            await google.colab.kernel.invokeFunction('convertToInteractive',\n",
              "                                                     [key], {});\n",
              "          if (!dataTable) return;\n",
              "\n",
              "          const docLinkHtml = 'Like what you see? Visit the ' +\n",
              "            '<a target=\"_blank\" href=https://colab.research.google.com/notebooks/data_table.ipynb>data table notebook</a>'\n",
              "            + ' to learn more about interactive tables.';\n",
              "          element.innerHTML = '';\n",
              "          dataTable['output_type'] = 'display_data';\n",
              "          await google.colab.output.renderOutput(dataTable, element);\n",
              "          const docLink = document.createElement('div');\n",
              "          docLink.innerHTML = docLinkHtml;\n",
              "          element.appendChild(docLink);\n",
              "        }\n",
              "      </script>\n",
              "    </div>\n",
              "  </div>\n",
              "  "
            ],
            "text/plain": [
              "   id  loan_amnt  term_(months)  ... mort_acc  pub_rec_bankruptcies  loan_status\n",
              "0   0       5000             36  ...      NaN                   0.0   Fully Paid\n",
              "1   1       2500             60  ...      NaN                   0.0  Charged Off\n",
              "2   2       2400             36  ...      NaN                   0.0   Fully Paid\n",
              "3   3      10000             36  ...      NaN                   0.0   Fully Paid\n",
              "4   4       3000             60  ...      NaN                   0.0   Fully Paid\n",
              "\n",
              "[5 rows x 29 columns]"
            ]
          },
          "metadata": {},
          "execution_count": 2
        }
      ]
    },
    {
      "cell_type": "code",
      "source": [
        "df.info()"
      ],
      "metadata": {
        "colab": {
          "base_uri": "https://localhost:8080/"
        },
        "id": "cXAenHSGmGHd",
        "outputId": "de9561e2-017c-402e-e456-d6caa852e258"
      },
      "execution_count": 3,
      "outputs": [
        {
          "output_type": "stream",
          "name": "stdout",
          "text": [
            "<class 'pandas.core.frame.DataFrame'>\n",
            "RangeIndex: 197250 entries, 0 to 197249\n",
            "Data columns (total 29 columns):\n",
            " #   Column                Non-Null Count   Dtype  \n",
            "---  ------                --------------   -----  \n",
            " 0   id                    197250 non-null  int64  \n",
            " 1   loan_amnt             197250 non-null  int64  \n",
            " 2   term_(months)         197250 non-null  int64  \n",
            " 3   int_rate              197250 non-null  object \n",
            " 4   installment           197250 non-null  float64\n",
            " 5   grade                 197250 non-null  object \n",
            " 6   sub_grade             197250 non-null  object \n",
            " 7   emp_title             184917 non-null  object \n",
            " 8   emp_length            189334 non-null  object \n",
            " 9   home_ownership        197250 non-null  object \n",
            " 10  annual_inc            197250 non-null  float64\n",
            " 11  verification_status   197250 non-null  object \n",
            " 12  issue_d               197250 non-null  object \n",
            " 13  purpose               197250 non-null  object \n",
            " 14  title                 197232 non-null  object \n",
            " 15  zip_code              197250 non-null  object \n",
            " 16  addr_state            197250 non-null  object \n",
            " 17  dti                   197250 non-null  float64\n",
            " 18  earliest_cr_line      197250 non-null  object \n",
            " 19  open_acc              197250 non-null  int64  \n",
            " 20  pub_rec               197250 non-null  int64  \n",
            " 21  revol_bal             197250 non-null  int64  \n",
            " 22  revol_util            197108 non-null  object \n",
            " 23  total_acc             197250 non-null  int64  \n",
            " 24  initial_list_status   197250 non-null  object \n",
            " 25  application_type      197250 non-null  object \n",
            " 26  mort_acc              157464 non-null  float64\n",
            " 27  pub_rec_bankruptcies  196553 non-null  float64\n",
            " 28  loan_status           197250 non-null  object \n",
            "dtypes: float64(5), int64(7), object(17)\n",
            "memory usage: 43.6+ MB\n"
          ]
        }
      ]
    },
    {
      "cell_type": "code",
      "source": [
        "dropped_features = ['addr_state', 'application_type', 'emp_title', 'grade',\n",
        "                    'title', 'zip_code', 'mort_acc']\n",
        "# drop unneeded features and id on train data\n",
        "df.drop(dropped_features + ['id'], axis=1, inplace=True)\n",
        "# drop unneeded features on test data\n",
        "ids = test_df['id']\n",
        "test_df.drop(dropped_features + ['id'], axis=1, inplace=True)\n",
        "\n",
        "df.head()"
      ],
      "metadata": {
        "colab": {
          "base_uri": "https://localhost:8080/",
          "height": 357
        },
        "id": "VzClifmeVaeu",
        "outputId": "6bee6fe1-6383-48ef-a03b-d916f2497771"
      },
      "execution_count": 4,
      "outputs": [
        {
          "output_type": "execute_result",
          "data": {
            "text/html": [
              "\n",
              "  <div id=\"df-4d5ed512-773e-4e44-a778-ed0c9433b16a\">\n",
              "    <div class=\"colab-df-container\">\n",
              "      <div>\n",
              "<style scoped>\n",
              "    .dataframe tbody tr th:only-of-type {\n",
              "        vertical-align: middle;\n",
              "    }\n",
              "\n",
              "    .dataframe tbody tr th {\n",
              "        vertical-align: top;\n",
              "    }\n",
              "\n",
              "    .dataframe thead th {\n",
              "        text-align: right;\n",
              "    }\n",
              "</style>\n",
              "<table border=\"1\" class=\"dataframe\">\n",
              "  <thead>\n",
              "    <tr style=\"text-align: right;\">\n",
              "      <th></th>\n",
              "      <th>loan_amnt</th>\n",
              "      <th>term_(months)</th>\n",
              "      <th>int_rate</th>\n",
              "      <th>installment</th>\n",
              "      <th>sub_grade</th>\n",
              "      <th>emp_length</th>\n",
              "      <th>home_ownership</th>\n",
              "      <th>annual_inc</th>\n",
              "      <th>verification_status</th>\n",
              "      <th>issue_d</th>\n",
              "      <th>purpose</th>\n",
              "      <th>dti</th>\n",
              "      <th>earliest_cr_line</th>\n",
              "      <th>open_acc</th>\n",
              "      <th>pub_rec</th>\n",
              "      <th>revol_bal</th>\n",
              "      <th>revol_util</th>\n",
              "      <th>total_acc</th>\n",
              "      <th>initial_list_status</th>\n",
              "      <th>pub_rec_bankruptcies</th>\n",
              "      <th>loan_status</th>\n",
              "    </tr>\n",
              "  </thead>\n",
              "  <tbody>\n",
              "    <tr>\n",
              "      <th>0</th>\n",
              "      <td>5000</td>\n",
              "      <td>36</td>\n",
              "      <td>10.65%</td>\n",
              "      <td>162.87</td>\n",
              "      <td>B2</td>\n",
              "      <td>10+ years</td>\n",
              "      <td>RENT</td>\n",
              "      <td>24000.0</td>\n",
              "      <td>Verified</td>\n",
              "      <td>Dec-2011</td>\n",
              "      <td>credit_card</td>\n",
              "      <td>27.65</td>\n",
              "      <td>Jan-1985</td>\n",
              "      <td>3</td>\n",
              "      <td>0</td>\n",
              "      <td>13648</td>\n",
              "      <td>83.7%</td>\n",
              "      <td>9</td>\n",
              "      <td>f</td>\n",
              "      <td>0.0</td>\n",
              "      <td>Fully Paid</td>\n",
              "    </tr>\n",
              "    <tr>\n",
              "      <th>1</th>\n",
              "      <td>2500</td>\n",
              "      <td>60</td>\n",
              "      <td>15.27%</td>\n",
              "      <td>59.83</td>\n",
              "      <td>C4</td>\n",
              "      <td>&lt; 1 year</td>\n",
              "      <td>RENT</td>\n",
              "      <td>30000.0</td>\n",
              "      <td>Source Verified</td>\n",
              "      <td>Dec-2011</td>\n",
              "      <td>car</td>\n",
              "      <td>1.00</td>\n",
              "      <td>Apr-1999</td>\n",
              "      <td>3</td>\n",
              "      <td>0</td>\n",
              "      <td>1687</td>\n",
              "      <td>9.4%</td>\n",
              "      <td>4</td>\n",
              "      <td>f</td>\n",
              "      <td>0.0</td>\n",
              "      <td>Charged Off</td>\n",
              "    </tr>\n",
              "    <tr>\n",
              "      <th>2</th>\n",
              "      <td>2400</td>\n",
              "      <td>36</td>\n",
              "      <td>15.96%</td>\n",
              "      <td>84.33</td>\n",
              "      <td>C5</td>\n",
              "      <td>10+ years</td>\n",
              "      <td>RENT</td>\n",
              "      <td>12252.0</td>\n",
              "      <td>Not Verified</td>\n",
              "      <td>Dec-2011</td>\n",
              "      <td>small_business</td>\n",
              "      <td>8.72</td>\n",
              "      <td>Nov-2001</td>\n",
              "      <td>2</td>\n",
              "      <td>0</td>\n",
              "      <td>2956</td>\n",
              "      <td>98.5%</td>\n",
              "      <td>10</td>\n",
              "      <td>f</td>\n",
              "      <td>0.0</td>\n",
              "      <td>Fully Paid</td>\n",
              "    </tr>\n",
              "    <tr>\n",
              "      <th>3</th>\n",
              "      <td>10000</td>\n",
              "      <td>36</td>\n",
              "      <td>13.49%</td>\n",
              "      <td>339.31</td>\n",
              "      <td>C1</td>\n",
              "      <td>10+ years</td>\n",
              "      <td>RENT</td>\n",
              "      <td>49200.0</td>\n",
              "      <td>Source Verified</td>\n",
              "      <td>Dec-2011</td>\n",
              "      <td>other</td>\n",
              "      <td>20.00</td>\n",
              "      <td>Feb-1996</td>\n",
              "      <td>10</td>\n",
              "      <td>0</td>\n",
              "      <td>5598</td>\n",
              "      <td>21%</td>\n",
              "      <td>37</td>\n",
              "      <td>f</td>\n",
              "      <td>0.0</td>\n",
              "      <td>Fully Paid</td>\n",
              "    </tr>\n",
              "    <tr>\n",
              "      <th>4</th>\n",
              "      <td>3000</td>\n",
              "      <td>60</td>\n",
              "      <td>12.69%</td>\n",
              "      <td>67.79</td>\n",
              "      <td>B5</td>\n",
              "      <td>1 year</td>\n",
              "      <td>RENT</td>\n",
              "      <td>80000.0</td>\n",
              "      <td>Source Verified</td>\n",
              "      <td>Dec-2011</td>\n",
              "      <td>other</td>\n",
              "      <td>17.94</td>\n",
              "      <td>Jan-1996</td>\n",
              "      <td>15</td>\n",
              "      <td>0</td>\n",
              "      <td>27783</td>\n",
              "      <td>53.9%</td>\n",
              "      <td>38</td>\n",
              "      <td>f</td>\n",
              "      <td>0.0</td>\n",
              "      <td>Fully Paid</td>\n",
              "    </tr>\n",
              "  </tbody>\n",
              "</table>\n",
              "</div>\n",
              "      <button class=\"colab-df-convert\" onclick=\"convertToInteractive('df-4d5ed512-773e-4e44-a778-ed0c9433b16a')\"\n",
              "              title=\"Convert this dataframe to an interactive table.\"\n",
              "              style=\"display:none;\">\n",
              "        \n",
              "  <svg xmlns=\"http://www.w3.org/2000/svg\" height=\"24px\"viewBox=\"0 0 24 24\"\n",
              "       width=\"24px\">\n",
              "    <path d=\"M0 0h24v24H0V0z\" fill=\"none\"/>\n",
              "    <path d=\"M18.56 5.44l.94 2.06.94-2.06 2.06-.94-2.06-.94-.94-2.06-.94 2.06-2.06.94zm-11 1L8.5 8.5l.94-2.06 2.06-.94-2.06-.94L8.5 2.5l-.94 2.06-2.06.94zm10 10l.94 2.06.94-2.06 2.06-.94-2.06-.94-.94-2.06-.94 2.06-2.06.94z\"/><path d=\"M17.41 7.96l-1.37-1.37c-.4-.4-.92-.59-1.43-.59-.52 0-1.04.2-1.43.59L10.3 9.45l-7.72 7.72c-.78.78-.78 2.05 0 2.83L4 21.41c.39.39.9.59 1.41.59.51 0 1.02-.2 1.41-.59l7.78-7.78 2.81-2.81c.8-.78.8-2.07 0-2.86zM5.41 20L4 18.59l7.72-7.72 1.47 1.35L5.41 20z\"/>\n",
              "  </svg>\n",
              "      </button>\n",
              "      \n",
              "  <style>\n",
              "    .colab-df-container {\n",
              "      display:flex;\n",
              "      flex-wrap:wrap;\n",
              "      gap: 12px;\n",
              "    }\n",
              "\n",
              "    .colab-df-convert {\n",
              "      background-color: #E8F0FE;\n",
              "      border: none;\n",
              "      border-radius: 50%;\n",
              "      cursor: pointer;\n",
              "      display: none;\n",
              "      fill: #1967D2;\n",
              "      height: 32px;\n",
              "      padding: 0 0 0 0;\n",
              "      width: 32px;\n",
              "    }\n",
              "\n",
              "    .colab-df-convert:hover {\n",
              "      background-color: #E2EBFA;\n",
              "      box-shadow: 0px 1px 2px rgba(60, 64, 67, 0.3), 0px 1px 3px 1px rgba(60, 64, 67, 0.15);\n",
              "      fill: #174EA6;\n",
              "    }\n",
              "\n",
              "    [theme=dark] .colab-df-convert {\n",
              "      background-color: #3B4455;\n",
              "      fill: #D2E3FC;\n",
              "    }\n",
              "\n",
              "    [theme=dark] .colab-df-convert:hover {\n",
              "      background-color: #434B5C;\n",
              "      box-shadow: 0px 1px 3px 1px rgba(0, 0, 0, 0.15);\n",
              "      filter: drop-shadow(0px 1px 2px rgba(0, 0, 0, 0.3));\n",
              "      fill: #FFFFFF;\n",
              "    }\n",
              "  </style>\n",
              "\n",
              "      <script>\n",
              "        const buttonEl =\n",
              "          document.querySelector('#df-4d5ed512-773e-4e44-a778-ed0c9433b16a button.colab-df-convert');\n",
              "        buttonEl.style.display =\n",
              "          google.colab.kernel.accessAllowed ? 'block' : 'none';\n",
              "\n",
              "        async function convertToInteractive(key) {\n",
              "          const element = document.querySelector('#df-4d5ed512-773e-4e44-a778-ed0c9433b16a');\n",
              "          const dataTable =\n",
              "            await google.colab.kernel.invokeFunction('convertToInteractive',\n",
              "                                                     [key], {});\n",
              "          if (!dataTable) return;\n",
              "\n",
              "          const docLinkHtml = 'Like what you see? Visit the ' +\n",
              "            '<a target=\"_blank\" href=https://colab.research.google.com/notebooks/data_table.ipynb>data table notebook</a>'\n",
              "            + ' to learn more about interactive tables.';\n",
              "          element.innerHTML = '';\n",
              "          dataTable['output_type'] = 'display_data';\n",
              "          await google.colab.output.renderOutput(dataTable, element);\n",
              "          const docLink = document.createElement('div');\n",
              "          docLink.innerHTML = docLinkHtml;\n",
              "          element.appendChild(docLink);\n",
              "        }\n",
              "      </script>\n",
              "    </div>\n",
              "  </div>\n",
              "  "
            ],
            "text/plain": [
              "   loan_amnt  term_(months)  ... pub_rec_bankruptcies  loan_status\n",
              "0       5000             36  ...                  0.0   Fully Paid\n",
              "1       2500             60  ...                  0.0  Charged Off\n",
              "2       2400             36  ...                  0.0   Fully Paid\n",
              "3      10000             36  ...                  0.0   Fully Paid\n",
              "4       3000             60  ...                  0.0   Fully Paid\n",
              "\n",
              "[5 rows x 21 columns]"
            ]
          },
          "metadata": {},
          "execution_count": 4
        }
      ]
    },
    {
      "cell_type": "code",
      "source": [
        "df['days_from_earliest_cr'] = (pd.to_datetime(df['issue_d']) - pd.to_datetime(df['earliest_cr_line'])).map(lambda x: x.days)\n",
        "df.drop(['issue_d', 'earliest_cr_line'], axis=1, inplace=True)\n",
        "df['int_rate'] = df['int_rate'].str[:-1].apply(float)\n",
        "df['revol_util'] = df['revol_util'].str[:-1].apply(float)\n",
        "\n",
        "test_df['days_from_earliest_cr'] = (pd.to_datetime(test_df['issue_d']) - \\\n",
        "                                    pd.to_datetime(test_df['earliest_cr_line'])).map(lambda x: x.days)\n",
        "test_df.drop(['issue_d', 'earliest_cr_line'], axis=1, inplace=True)\n",
        "test_df['int_rate'] = test_df['int_rate'].str[:-1].apply(float)\n",
        "test_df['revol_util'] = test_df['revol_util'].str[:-1].apply(float)"
      ],
      "metadata": {
        "id": "pEnEDBw-owF9"
      },
      "execution_count": 5,
      "outputs": []
    },
    {
      "cell_type": "code",
      "source": [
        "num_features = ['annual_inc', 'installment', 'int_rate',\n",
        "                'days_from_earliest_cr', 'loan_amnt', 'open_acc',\n",
        "                'revol_util', 'dti', 'days_from_earliest_cr', 'revol_bal',\n",
        "                'total_acc'\n",
        "                ]"
      ],
      "metadata": {
        "id": "V1alIBG3qXql"
      },
      "execution_count": 6,
      "outputs": []
    },
    {
      "cell_type": "code",
      "source": [
        "fig, ax = plt.subplots(3, 4)\n",
        "\n",
        "m = 0\n",
        "for num_feature in num_features:\n",
        "  ax[m // 4, m % 4].set_title(num_feature)\n",
        "  df[num_feature].hist(ax=ax[m // 4, m % 4], figsize=(8, 6))\n",
        "  m += 1\n",
        "plt.tight_layout()"
      ],
      "metadata": {
        "colab": {
          "base_uri": "https://localhost:8080/",
          "height": 441
        },
        "id": "zxyUmuAxq1kq",
        "outputId": "909af838-e443-411f-bbaf-17a2462cb795"
      },
      "execution_count": 7,
      "outputs": [
        {
          "output_type": "display_data",
          "data": {
            "image/png": "[encoded data removed]",
            "text/plain": [
              "<Figure size 576x432 with 12 Axes>"
            ]
          },
          "metadata": {
            "needs_background": "light"
          }
        }
      ]
    },
    {
      "cell_type": "code",
      "source": [
        "def box_cox(data, test_data, col_name):\n",
        "  col_data = np.array(data[col_name]) + 1\n",
        "  column_data_clean = col_data[~np.isnan(col_data)]\n",
        "  l, opt_lambda = scipy.stats.boxcox(column_data_clean)\n",
        "\n",
        "  data[col_name] = scipy.stats.boxcox(col_data, lmbda=opt_lambda)\n",
        "\n",
        "  test_col_data = test_data[col_name] + 1\n",
        "  test_data[col_name] = scipy.stats.boxcox(test_col_data, lmbda=opt_lambda)"
      ],
      "metadata": {
        "id": "IP8mGIkqXKGq"
      },
      "execution_count": 8,
      "outputs": []
    },
    {
      "cell_type": "code",
      "source": [
        "for num_feature in num_features:\n",
        "  box_cox(df, test_df, num_feature)"
      ],
      "metadata": {
        "id": "TPQdEOglZk46"
      },
      "execution_count": 9,
      "outputs": []
    },
    {
      "cell_type": "code",
      "source": [
        "fig, ax = plt.subplots(3, 4)\n",
        "\n",
        "m = 0\n",
        "for num_feature in num_features:\n",
        "  ax[m // 4, m % 4].set_title(num_feature)\n",
        "  df[num_feature].hist(ax=ax[m // 4, m % 4], figsize=(8, 6))\n",
        "  m += 1\n",
        "plt.tight_layout()"
      ],
      "metadata": {
        "colab": {
          "base_uri": "https://localhost:8080/",
          "height": 441
        },
        "id": "9ofB9FxStgrc",
        "outputId": "eaee0897-32ed-4a9e-fdd1-74c468057124"
      },
      "execution_count": 10,
      "outputs": [
        {
          "output_type": "display_data",
          "data": {
            "image/png": "[encoded data removed]",
            "text/plain": [
              "<Figure size 576x432 with 12 Axes>"
            ]
          },
          "metadata": {
            "needs_background": "light"
          }
        }
      ]
    },
    {
      "cell_type": "markdown",
      "source": [
        "# Categorical"
      ],
      "metadata": {
        "id": "YqQGvSo_wVdf"
      }
    },
    {
      "cell_type": "code",
      "source": [
        "df['initial_list_status'] = (df['initial_list_status'] == 'f')\n",
        "df['term_(months)'] = df['term_(months)'] == 36\n",
        "# df['pub_recs'] = (df['pub_rec'] > 0) | (df['pub_rec_bankruptcies'] > 0)\n",
        "df['bankruptcies_binarized'] = df['pub_rec_bankruptcies'] > 0\n",
        "df['pub_rec_binarized'] = df['pub_rec'] > 0\n",
        "df.drop(['pub_rec', 'pub_rec_bankruptcies'], axis=1, inplace=True)\n",
        "\n",
        "test_df['initial_list_status'] = (test_df['initial_list_status'] == 'f')\n",
        "test_df['term_(months)'] = test_df['term_(months)'] == 36\n",
        "# test_df['pub_recs'] = (test_df['pub_rec'] > 0) | (test_df['pub_rec_bankruptcies'] > 0)\n",
        "test_df['bankruptcies_binarized'] = test_df['pub_rec_bankruptcies'] > 0\n",
        "test_df['pub_rec_binarized'] = test_df['pub_rec'] > 0\n",
        "test_df.drop(['pub_rec', 'pub_rec_bankruptcies'], axis=1, inplace=True)"
      ],
      "metadata": {
        "id": "sr6LYWGcwWR_"
      },
      "execution_count": 11,
      "outputs": []
    },
    {
      "cell_type": "code",
      "source": [
        "df = pd.get_dummies(df, prefix='ho', columns=['home_ownership'])\n",
        "df = pd.get_dummies(df, prefix='vs', columns=['verification_status'])\n",
        "test_df = test_df.reindex(columns=df.columns, fill_value=0)"
      ],
      "metadata": {
        "id": "dTXHeVPzyCFP"
      },
      "execution_count": 12,
      "outputs": []
    },
    {
      "cell_type": "code",
      "source": [
        "from sklearn.preprocessing import OrdinalEncoder\n",
        "encoder = OrdinalEncoder()\n",
        "df['sub_grade'] = encoder.fit_transform(df[['sub_grade']])\n",
        "test_df['sub_grade'] = encoder.transform(test_df[['sub_grade']])"
      ],
      "metadata": {
        "id": "m7gCmGAAy0fm"
      },
      "execution_count": 13,
      "outputs": []
    },
    {
      "cell_type": "code",
      "source": [
        "main_purposes = ['debt_consolidation', 'credit_card', 'home_improvement', 'major_purchase', 'small_business']\n",
        "conditions = [df['purpose'].str.contains(purpose) for purpose in main_purposes]\n",
        "df['purpose'] = np.select(conditions, main_purposes, default='other')\n",
        "df = pd.get_dummies(df, prefix='purp', columns=['purpose'])\n",
        "\n",
        "test_conditions = [test_df['purpose'].str.contains(purpose) for purpose in main_purposes]\n",
        "test_df['purpose'] = np.select(test_conditions, main_purposes, default='other')\n",
        "test_df = pd.get_dummies(test_df, prefix='purp', columns=['purpose'])"
      ],
      "metadata": {
        "id": "EWGBPkL30T5q"
      },
      "execution_count": 14,
      "outputs": []
    },
    {
      "cell_type": "code",
      "source": [
        "emp_length_map = {\n",
        "    '0 years': 'no value',\n",
        "    '< 1 year': '0-4',\n",
        "    '1 year': '0-4',\n",
        "    '2 years': '0-4',\n",
        "    '3 years': '0-4',\n",
        "    '4 years': '0-4',\n",
        "    '5 years': '5-9',\n",
        "    '6 years': '5-9',\n",
        "    '7 years': '5-9',\n",
        "    '8 years': '5-9',\n",
        "    '9 years': '5-9',\n",
        "    '10+ years': '10+'\n",
        "}\n",
        "\n",
        "df['emp_length'] = df['emp_length'].fillna('0 years')\n",
        "df['emp_length'] = df['emp_length'].map(lambda x: emp_length_map[x])\n",
        "df = pd.get_dummies(df, prefix='el', columns=['emp_length'])\n",
        "\n",
        "test_df['emp_length'] = test_df['emp_length'].fillna('0 years')\n",
        "test_df['emp_length'] = test_df['emp_length'].map(lambda x: emp_length_map[x])\n",
        "test_df = test_df.reindex(columns=df.columns, fill_value=0)"
      ],
      "metadata": {
        "id": "ohR3bt2f4JeW"
      },
      "execution_count": 15,
      "outputs": []
    },
    {
      "cell_type": "code",
      "source": [
        "df.columns"
      ],
      "metadata": {
        "colab": {
          "base_uri": "https://localhost:8080/"
        },
        "id": "eXsIvaGu9vH-",
        "outputId": "ca132d19-9e24-4b05-f44e-08f1607c0841"
      },
      "execution_count": 16,
      "outputs": [
        {
          "output_type": "execute_result",
          "data": {
            "text/plain": [
              "Index(['loan_amnt', 'term_(months)', 'int_rate', 'installment', 'sub_grade',\n",
              "       'annual_inc', 'dti', 'open_acc', 'revol_bal', 'revol_util', 'total_acc',\n",
              "       'initial_list_status', 'loan_status', 'days_from_earliest_cr',\n",
              "       'bankruptcies_binarized', 'pub_rec_binarized', 'ho_MORTGAGE', 'ho_NONE',\n",
              "       'ho_OTHER', 'ho_OWN', 'ho_RENT', 'vs_Not Verified',\n",
              "       'vs_Source Verified', 'vs_Verified', 'purp_credit_card',\n",
              "       'purp_debt_consolidation', 'purp_home_improvement',\n",
              "       'purp_major_purchase', 'purp_other', 'purp_small_business', 'el_0-4',\n",
              "       'el_10+', 'el_5-9', 'el_no value'],\n",
              "      dtype='object')"
            ]
          },
          "metadata": {},
          "execution_count": 16
        }
      ]
    },
    {
      "cell_type": "code",
      "source": [
        "test_df.columns"
      ],
      "metadata": {
        "colab": {
          "base_uri": "https://localhost:8080/"
        },
        "id": "45g7_pRmZaEN",
        "outputId": "2fddf240-5129-4624-dd72-c7069a0ef548"
      },
      "execution_count": 17,
      "outputs": [
        {
          "output_type": "execute_result",
          "data": {
            "text/plain": [
              "Index(['loan_amnt', 'term_(months)', 'int_rate', 'installment', 'sub_grade',\n",
              "       'annual_inc', 'dti', 'open_acc', 'revol_bal', 'revol_util', 'total_acc',\n",
              "       'initial_list_status', 'loan_status', 'days_from_earliest_cr',\n",
              "       'bankruptcies_binarized', 'pub_rec_binarized', 'ho_MORTGAGE', 'ho_NONE',\n",
              "       'ho_OTHER', 'ho_OWN', 'ho_RENT', 'vs_Not Verified',\n",
              "       'vs_Source Verified', 'vs_Verified', 'purp_credit_card',\n",
              "       'purp_debt_consolidation', 'purp_home_improvement',\n",
              "       'purp_major_purchase', 'purp_other', 'purp_small_business', 'el_0-4',\n",
              "       'el_10+', 'el_5-9', 'el_no value'],\n",
              "      dtype='object')"
            ]
          },
          "metadata": {},
          "execution_count": 17
        }
      ]
    },
    {
      "cell_type": "markdown",
      "source": [
        "# Imputation"
      ],
      "metadata": {
        "id": "O-Mqu2I_E6d9"
      }
    },
    {
      "cell_type": "code",
      "source": [
        "df.head()"
      ],
      "metadata": {
        "colab": {
          "base_uri": "https://localhost:8080/",
          "height": 287
        },
        "id": "VtiUJeDAZ8eP",
        "outputId": "00786607-ff3c-4ab0-81dd-66e6e3fb107d"
      },
      "execution_count": 18,
      "outputs": [
        {
          "output_type": "execute_result",
          "data": {
            "text/html": [
              "\n",
              "  <div id=\"df-9bfabd2d-00e5-4578-81b0-9f192eb10dba\">\n",
              "    <div class=\"colab-df-container\">\n",
              "      <div>\n",
              "<style scoped>\n",
              "    .dataframe tbody tr th:only-of-type {\n",
              "        vertical-align: middle;\n",
              "    }\n",
              "\n",
              "    .dataframe tbody tr th {\n",
              "        vertical-align: top;\n",
              "    }\n",
              "\n",
              "    .dataframe thead th {\n",
              "        text-align: right;\n",
              "    }\n",
              "</style>\n",
              "<table border=\"1\" class=\"dataframe\">\n",
              "  <thead>\n",
              "    <tr style=\"text-align: right;\">\n",
              "      <th></th>\n",
              "      <th>loan_amnt</th>\n",
              "      <th>term_(months)</th>\n",
              "      <th>int_rate</th>\n",
              "      <th>installment</th>\n",
              "      <th>sub_grade</th>\n",
              "      <th>annual_inc</th>\n",
              "      <th>dti</th>\n",
              "      <th>open_acc</th>\n",
              "      <th>revol_bal</th>\n",
              "      <th>revol_util</th>\n",
              "      <th>total_acc</th>\n",
              "      <th>initial_list_status</th>\n",
              "      <th>loan_status</th>\n",
              "      <th>days_from_earliest_cr</th>\n",
              "      <th>bankruptcies_binarized</th>\n",
              "      <th>pub_rec_binarized</th>\n",
              "      <th>ho_MORTGAGE</th>\n",
              "      <th>ho_NONE</th>\n",
              "      <th>ho_OTHER</th>\n",
              "      <th>ho_OWN</th>\n",
              "      <th>ho_RENT</th>\n",
              "      <th>vs_Not Verified</th>\n",
              "      <th>vs_Source Verified</th>\n",
              "      <th>vs_Verified</th>\n",
              "      <th>purp_credit_card</th>\n",
              "      <th>purp_debt_consolidation</th>\n",
              "      <th>purp_home_improvement</th>\n",
              "      <th>purp_major_purchase</th>\n",
              "      <th>purp_other</th>\n",
              "      <th>purp_small_business</th>\n",
              "      <th>el_0-4</th>\n",
              "      <th>el_10+</th>\n",
              "      <th>el_5-9</th>\n",
              "      <th>el_no value</th>\n",
              "    </tr>\n",
              "  </thead>\n",
              "  <tbody>\n",
              "    <tr>\n",
              "      <th>0</th>\n",
              "      <td>68.506402</td>\n",
              "      <td>True</td>\n",
              "      <td>4.967106</td>\n",
              "      <td>15.406273</td>\n",
              "      <td>6.0</td>\n",
              "      <td>6.912794</td>\n",
              "      <td>16.092885</td>\n",
              "      <td>1.620395</td>\n",
              "      <td>54.691354</td>\n",
              "      <td>108.914908</td>\n",
              "      <td>3.604062</td>\n",
              "      <td>True</td>\n",
              "      <td>Fully Paid</td>\n",
              "      <td>30.042520</td>\n",
              "      <td>False</td>\n",
              "      <td>False</td>\n",
              "      <td>0</td>\n",
              "      <td>0</td>\n",
              "      <td>0</td>\n",
              "      <td>0</td>\n",
              "      <td>1</td>\n",
              "      <td>0</td>\n",
              "      <td>0</td>\n",
              "      <td>1</td>\n",
              "      <td>1</td>\n",
              "      <td>0</td>\n",
              "      <td>0</td>\n",
              "      <td>0</td>\n",
              "      <td>0</td>\n",
              "      <td>0</td>\n",
              "      <td>0</td>\n",
              "      <td>1</td>\n",
              "      <td>0</td>\n",
              "      <td>0</td>\n",
              "    </tr>\n",
              "    <tr>\n",
              "      <th>1</th>\n",
              "      <td>51.674461</td>\n",
              "      <td>False</td>\n",
              "      <td>6.272951</td>\n",
              "      <td>9.791565</td>\n",
              "      <td>13.0</td>\n",
              "      <td>7.011185</td>\n",
              "      <td>0.917724</td>\n",
              "      <td>1.620395</td>\n",
              "      <td>27.657471</td>\n",
              "      <td>10.598505</td>\n",
              "      <td>2.187953</td>\n",
              "      <td>True</td>\n",
              "      <td>Charged Off</td>\n",
              "      <td>24.734779</td>\n",
              "      <td>False</td>\n",
              "      <td>False</td>\n",
              "      <td>0</td>\n",
              "      <td>0</td>\n",
              "      <td>0</td>\n",
              "      <td>0</td>\n",
              "      <td>1</td>\n",
              "      <td>0</td>\n",
              "      <td>1</td>\n",
              "      <td>0</td>\n",
              "      <td>0</td>\n",
              "      <td>0</td>\n",
              "      <td>0</td>\n",
              "      <td>0</td>\n",
              "      <td>1</td>\n",
              "      <td>0</td>\n",
              "      <td>1</td>\n",
              "      <td>0</td>\n",
              "      <td>0</td>\n",
              "      <td>0</td>\n",
              "    </tr>\n",
              "    <tr>\n",
              "      <th>2</th>\n",
              "      <td>50.818040</td>\n",
              "      <td>True</td>\n",
              "      <td>6.451747</td>\n",
              "      <td>11.479376</td>\n",
              "      <td>14.0</td>\n",
              "      <td>6.605448</td>\n",
              "      <td>6.229869</td>\n",
              "      <td>1.242430</td>\n",
              "      <td>33.335125</td>\n",
              "      <td>129.672730</td>\n",
              "      <td>3.828235</td>\n",
              "      <td>True</td>\n",
              "      <td>Fully Paid</td>\n",
              "      <td>23.292905</td>\n",
              "      <td>False</td>\n",
              "      <td>False</td>\n",
              "      <td>0</td>\n",
              "      <td>0</td>\n",
              "      <td>0</td>\n",
              "      <td>0</td>\n",
              "      <td>1</td>\n",
              "      <td>1</td>\n",
              "      <td>0</td>\n",
              "      <td>0</td>\n",
              "      <td>0</td>\n",
              "      <td>0</td>\n",
              "      <td>0</td>\n",
              "      <td>0</td>\n",
              "      <td>0</td>\n",
              "      <td>1</td>\n",
              "      <td>0</td>\n",
              "      <td>1</td>\n",
              "      <td>0</td>\n",
              "      <td>0</td>\n",
              "    </tr>\n",
              "    <tr>\n",
              "      <th>3</th>\n",
              "      <td>90.565486</td>\n",
              "      <td>True</td>\n",
              "      <td>5.794100</td>\n",
              "      <td>21.111848</td>\n",
              "      <td>10.0</td>\n",
              "      <td>7.223129</td>\n",
              "      <td>12.373028</td>\n",
              "      <td>3.156105</td>\n",
              "      <td>41.077519</td>\n",
              "      <td>24.863718</td>\n",
              "      <td>7.577117</td>\n",
              "      <td>True</td>\n",
              "      <td>Fully Paid</td>\n",
              "      <td>26.213301</td>\n",
              "      <td>False</td>\n",
              "      <td>False</td>\n",
              "      <td>0</td>\n",
              "      <td>0</td>\n",
              "      <td>0</td>\n",
              "      <td>0</td>\n",
              "      <td>1</td>\n",
              "      <td>0</td>\n",
              "      <td>1</td>\n",
              "      <td>0</td>\n",
              "      <td>0</td>\n",
              "      <td>0</td>\n",
              "      <td>0</td>\n",
              "      <td>0</td>\n",
              "      <td>1</td>\n",
              "      <td>0</td>\n",
              "      <td>0</td>\n",
              "      <td>1</td>\n",
              "      <td>0</td>\n",
              "      <td>0</td>\n",
              "    </tr>\n",
              "    <tr>\n",
              "      <th>4</th>\n",
              "      <td>55.670496</td>\n",
              "      <td>False</td>\n",
              "      <td>5.569700</td>\n",
              "      <td>10.380183</td>\n",
              "      <td>9.0</td>\n",
              "      <td>7.423364</td>\n",
              "      <td>11.322139</td>\n",
              "      <td>3.817251</td>\n",
              "      <td>68.486190</td>\n",
              "      <td>67.995479</td>\n",
              "      <td>7.675176</td>\n",
              "      <td>True</td>\n",
              "      <td>Fully Paid</td>\n",
              "      <td>26.249683</td>\n",
              "      <td>False</td>\n",
              "      <td>False</td>\n",
              "      <td>0</td>\n",
              "      <td>0</td>\n",
              "      <td>0</td>\n",
              "      <td>0</td>\n",
              "      <td>1</td>\n",
              "      <td>0</td>\n",
              "      <td>1</td>\n",
              "      <td>0</td>\n",
              "      <td>0</td>\n",
              "      <td>0</td>\n",
              "      <td>0</td>\n",
              "      <td>0</td>\n",
              "      <td>1</td>\n",
              "      <td>0</td>\n",
              "      <td>1</td>\n",
              "      <td>0</td>\n",
              "      <td>0</td>\n",
              "      <td>0</td>\n",
              "    </tr>\n",
              "  </tbody>\n",
              "</table>\n",
              "</div>\n",
              "      <button class=\"colab-df-convert\" onclick=\"convertToInteractive('df-9bfabd2d-00e5-4578-81b0-9f192eb10dba')\"\n",
              "              title=\"Convert this dataframe to an interactive table.\"\n",
              "              style=\"display:none;\">\n",
              "        \n",
              "  <svg xmlns=\"http://www.w3.org/2000/svg\" height=\"24px\"viewBox=\"0 0 24 24\"\n",
              "       width=\"24px\">\n",
              "    <path d=\"M0 0h24v24H0V0z\" fill=\"none\"/>\n",
              "    <path d=\"M18.56 5.44l.94 2.06.94-2.06 2.06-.94-2.06-.94-.94-2.06-.94 2.06-2.06.94zm-11 1L8.5 8.5l.94-2.06 2.06-.94-2.06-.94L8.5 2.5l-.94 2.06-2.06.94zm10 10l.94 2.06.94-2.06 2.06-.94-2.06-.94-.94-2.06-.94 2.06-2.06.94z\"/><path d=\"M17.41 7.96l-1.37-1.37c-.4-.4-.92-.59-1.43-.59-.52 0-1.04.2-1.43.59L10.3 9.45l-7.72 7.72c-.78.78-.78 2.05 0 2.83L4 21.41c.39.39.9.59 1.41.59.51 0 1.02-.2 1.41-.59l7.78-7.78 2.81-2.81c.8-.78.8-2.07 0-2.86zM5.41 20L4 18.59l7.72-7.72 1.47 1.35L5.41 20z\"/>\n",
              "  </svg>\n",
              "      </button>\n",
              "      \n",
              "  <style>\n",
              "    .colab-df-container {\n",
              "      display:flex;\n",
              "      flex-wrap:wrap;\n",
              "      gap: 12px;\n",
              "    }\n",
              "\n",
              "    .colab-df-convert {\n",
              "      background-color: #E8F0FE;\n",
              "      border: none;\n",
              "      border-radius: 50%;\n",
              "      cursor: pointer;\n",
              "      display: none;\n",
              "      fill: #1967D2;\n",
              "      height: 32px;\n",
              "      padding: 0 0 0 0;\n",
              "      width: 32px;\n",
              "    }\n",
              "\n",
              "    .colab-df-convert:hover {\n",
              "      background-color: #E2EBFA;\n",
              "      box-shadow: 0px 1px 2px rgba(60, 64, 67, 0.3), 0px 1px 3px 1px rgba(60, 64, 67, 0.15);\n",
              "      fill: #174EA6;\n",
              "    }\n",
              "\n",
              "    [theme=dark] .colab-df-convert {\n",
              "      background-color: #3B4455;\n",
              "      fill: #D2E3FC;\n",
              "    }\n",
              "\n",
              "    [theme=dark] .colab-df-convert:hover {\n",
              "      background-color: #434B5C;\n",
              "      box-shadow: 0px 1px 3px 1px rgba(0, 0, 0, 0.15);\n",
              "      filter: drop-shadow(0px 1px 2px rgba(0, 0, 0, 0.3));\n",
              "      fill: #FFFFFF;\n",
              "    }\n",
              "  </style>\n",
              "\n",
              "      <script>\n",
              "        const buttonEl =\n",
              "          document.querySelector('#df-9bfabd2d-00e5-4578-81b0-9f192eb10dba button.colab-df-convert');\n",
              "        buttonEl.style.display =\n",
              "          google.colab.kernel.accessAllowed ? 'block' : 'none';\n",
              "\n",
              "        async function convertToInteractive(key) {\n",
              "          const element = document.querySelector('#df-9bfabd2d-00e5-4578-81b0-9f192eb10dba');\n",
              "          const dataTable =\n",
              "            await google.colab.kernel.invokeFunction('convertToInteractive',\n",
              "                                                     [key], {});\n",
              "          if (!dataTable) return;\n",
              "\n",
              "          const docLinkHtml = 'Like what you see? Visit the ' +\n",
              "            '<a target=\"_blank\" href=https://colab.research.google.com/notebooks/data_table.ipynb>data table notebook</a>'\n",
              "            + ' to learn more about interactive tables.';\n",
              "          element.innerHTML = '';\n",
              "          dataTable['output_type'] = 'display_data';\n",
              "          await google.colab.output.renderOutput(dataTable, element);\n",
              "          const docLink = document.createElement('div');\n",
              "          docLink.innerHTML = docLinkHtml;\n",
              "          element.appendChild(docLink);\n",
              "        }\n",
              "      </script>\n",
              "    </div>\n",
              "  </div>\n",
              "  "
            ],
            "text/plain": [
              "   loan_amnt  term_(months)  int_rate  ...  el_10+  el_5-9  el_no value\n",
              "0  68.506402           True  4.967106  ...       1       0            0\n",
              "1  51.674461          False  6.272951  ...       0       0            0\n",
              "2  50.818040           True  6.451747  ...       1       0            0\n",
              "3  90.565486           True  5.794100  ...       1       0            0\n",
              "4  55.670496          False  5.569700  ...       0       0            0\n",
              "\n",
              "[5 rows x 34 columns]"
            ]
          },
          "metadata": {},
          "execution_count": 18
        }
      ]
    },
    {
      "cell_type": "code",
      "source": [
        "num_attr = ['loan_amnt', 'int_rate', 'installment', 'sub_grade',\n",
        "            'annual_inc', 'dti', 'open_acc', 'revol_bal', 'revol_util', 'total_acc',\n",
        "            'days_from_earliest_cr',]\n",
        "\n",
        "cat_attr = ['term_(months)', 'initial_list_status', \n",
        "      'bankruptcies_binarized', 'pub_rec_binarized', 'ho_MORTGAGE', 'ho_NONE',\n",
        "       'ho_OTHER', 'ho_OWN', 'ho_RENT', 'vs_Not Verified',\n",
        "       'vs_Source Verified', 'vs_Verified', 'purp_credit_card',\n",
        "       'purp_debt_consolidation', 'purp_home_improvement',\n",
        "       'purp_major_purchase', 'purp_other', 'purp_small_business', 'el_0-4',\n",
        "       'el_10+', 'el_5-9', 'el_no value'  \n",
        "]"
      ],
      "metadata": {
        "id": "buZQ4rF_E_Rh"
      },
      "execution_count": 22,
      "outputs": []
    },
    {
      "cell_type": "code",
      "source": [
        "from sklearn.impute import SimpleImputer\n",
        "\n",
        "median_imputer = SimpleImputer(strategy='median')\n",
        "\n",
        "df[num_attr] = median_imputer.fit_transform(df[num_attr])\n",
        "test_df[num_attr] = median_imputer.transform(test_df[num_attr])"
      ],
      "metadata": {
        "id": "O7q5mvmXFe11"
      },
      "execution_count": 23,
      "outputs": []
    },
    {
      "cell_type": "code",
      "source": [
        "mode_imputer = SimpleImputer(strategy='mode')\n",
        "df[cat_attr] = median_imputer.fit_transform(df[cat_attr])\n",
        "test_df[cat_attr] = median_imputer.transform(test_df[cat_attr])"
      ],
      "metadata": {
        "id": "sDZeHf7iE2H7"
      },
      "execution_count": 24,
      "outputs": []
    },
    {
      "cell_type": "code",
      "source": [
        "test_df['id'] = ids"
      ],
      "metadata": {
        "id": "jWh46uOiKlMp"
      },
      "execution_count": 25,
      "outputs": []
    },
    {
      "cell_type": "code",
      "source": [
        "# normalize numerical attributes\n",
        "mins, maxs = df[num_attr].min(), df[num_attr].max()\n",
        "\n",
        "df[num_attr] = (df[num_attr] - mins) / (maxs - mins)\n",
        "test_df[num_attr] = (test_df[num_attr] - mins) / (maxs - mins)"
      ],
      "metadata": {
        "id": "uojHNFzdKsQ3"
      },
      "execution_count": 26,
      "outputs": []
    },
    {
      "cell_type": "code",
      "source": [
        "# convert loan status to binary\n",
        "df['loan_status'] = df['loan_status'] == 'Charged Off'"
      ],
      "metadata": {
        "id": "qgnOa5S0Lyip"
      },
      "execution_count": 27,
      "outputs": []
    },
    {
      "cell_type": "code",
      "source": [
        "test_df.drop('loan_status', axis=1, inplace=True)"
      ],
      "metadata": {
        "id": "r6BI66PJewew"
      },
      "execution_count": 28,
      "outputs": []
    },
    {
      "cell_type": "code",
      "source": [
        "# randomize train data\n",
        "df = df.sample(frac=1)"
      ],
      "metadata": {
        "id": "h1K1I06o1gKw"
      },
      "execution_count": 29,
      "outputs": []
    },
    {
      "cell_type": "markdown",
      "source": [
        "# Model"
      ],
      "metadata": {
        "id": "Zs93hI4OLiN3"
      }
    },
    {
      "cell_type": "code",
      "source": [
        "from sklearn.ensemble import RandomForestClassifier, AdaBoostClassifier\n",
        "from sklearn.neural_network import MLPClassifier\n",
        "from sklearn.linear_model import LogisticRegression\n",
        "from sklearn.svm import LinearSVC\n",
        "\n",
        "from xgboost import XGBClassifier\n",
        "\n",
        "from sklearn.model_selection import cross_val_score, GridSearchCV, RandomizedSearchCV\n",
        "\n",
        "from sklearn.metrics import roc_auc_score\n",
        "\n",
        "n_estimators = 300"
      ],
      "metadata": {
        "id": "GUfvgaaKK3EL"
      },
      "execution_count": 30,
      "outputs": []
    },
    {
      "cell_type": "code",
      "source": [
        "X = df.drop('loan_status', axis=1)\n",
        "y = df['loan_status']"
      ],
      "metadata": {
        "id": "qGldgp6hL_8s"
      },
      "execution_count": 31,
      "outputs": []
    },
    {
      "cell_type": "code",
      "source": [
        "xgbc = XGBClassifier(n_estimators=200, max_depth=2,)\n",
        "scores = cross_val_score(xgbc, X, y, cv=5, scoring='roc_auc')\n",
        "print(scores)\n",
        "print(scores.mean())"
      ],
      "metadata": {
        "colab": {
          "base_uri": "https://localhost:8080/"
        },
        "id": "uyWkjZxddbfS",
        "outputId": "07bb0bfd-c143-4251-937d-622e7584ce33"
      },
      "execution_count": 33,
      "outputs": [
        {
          "output_type": "stream",
          "name": "stdout",
          "text": [
            "[0.69100058 0.69338849 0.69507093 0.68693269 0.68555815]\n",
            "0.6903901687964267\n"
          ]
        }
      ]
    },
    {
      "cell_type": "code",
      "source": [
        "xgbc = XGBClassifier(n_estimators=400, max_depth=2,)\n",
        "scores = cross_val_score(xgbc, X, y, cv=5, scoring='roc_auc')\n",
        "print(scores)\n",
        "print(scores.mean())"
      ],
      "metadata": {
        "colab": {
          "base_uri": "https://localhost:8080/"
        },
        "id": "PgOfku0wOyXg",
        "outputId": "dd2ca7aa-9d87-4032-f738-c0688f0b24e8"
      },
      "execution_count": 32,
      "outputs": [
        {
          "output_type": "stream",
          "name": "stdout",
          "text": [
            "[0.69193757 0.69475217 0.69641294 0.68799206 0.68668254]\n",
            "0.6915554561205722\n"
          ]
        }
      ]
    },
    {
      "cell_type": "code",
      "source": [
        "xgbc = XGBClassifier(n_estimators=600, max_depth=2,)\n",
        "scores = cross_val_score(xgbc, X, y, cv=5, scoring='roc_auc')\n",
        "print(scores)\n",
        "print(scores.mean())"
      ],
      "metadata": {
        "colab": {
          "base_uri": "https://localhost:8080/"
        },
        "id": "VX9QFaenc-0e",
        "outputId": "94d80951-1599-4df9-b3db-27599316ffcb"
      },
      "execution_count": 34,
      "outputs": [
        {
          "output_type": "stream",
          "name": "stdout",
          "text": [
            "[0.69193171 0.69483409 0.69676487 0.68807284 0.68726255]\n",
            "0.6917732106180002\n"
          ]
        }
      ]
    },
    {
      "cell_type": "code",
      "source": [
        "# define search space\n",
        "space = dict()\n",
        "space['n_estimators'] = [50, 100, 200, 300]\n",
        "space['max_depth'] = [2, 6]\n",
        "\n",
        "# define search\n",
        "search = GridSearchCV(xgbc, space, scoring='roc_auc', n_jobs=-1, cv=5)\n",
        "# execute search\n",
        "result = search.fit(X, y)\n",
        "# summarize result\n",
        "print('Best Score: %s' % result.best_score_)\n",
        "print('Best Hyperparameters: %s' % result.best_params_)"
      ],
      "metadata": {
        "id": "VlLAK4BPFAsr"
      },
      "execution_count": null,
      "outputs": []
    },
    {
      "cell_type": "code",
      "source": [
        "# lrc = LogisticRegression(solver='newton-cg', max_iter=200, class_weight={0: 1, 1: 5})\n",
        "# scores = cross_val_score(lrc, X, y, cv=5, scoring='roc_auc')\n",
        "# print(scores)\n",
        "# print(scores.mean())"
      ],
      "metadata": {
        "id": "lokhB_ZkdjP-"
      },
      "execution_count": null,
      "outputs": []
    },
    {
      "cell_type": "code",
      "source": [
        "def func(x):\n",
        "  return x if x < 0.5 else 1 - x"
      ],
      "metadata": {
        "id": "4pfPP40Ui0b4"
      },
      "execution_count": null,
      "outputs": []
    },
    {
      "cell_type": "code",
      "source": [
        ""
      ],
      "metadata": {
        "id": "zs3PjXMekVMP"
      },
      "execution_count": null,
      "outputs": []
    },
    {
      "cell_type": "code",
      "source": [
        "# submission = pd.DataFrame({'Id': test_df['id'], 'loan_status': charged_off_probs2})\n",
        "# # you could use any filename. We choose submission here\n",
        "# submission.to_csv('submission.csv', index=False)"
      ],
      "metadata": {
        "id": "sQ138AHyd-za"
      },
      "execution_count": null,
      "outputs": []
    }
  ]
}