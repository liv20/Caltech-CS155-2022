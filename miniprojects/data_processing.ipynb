{
  "nbformat": 4,
  "nbformat_minor": 0,
  "metadata": {
    "colab": {
      "name": "data_processing.ipynb",
      "provenance": [],
      "collapsed_sections": [],
      "include_colab_link": true
    },
    "kernelspec": {
      "name": "python3",
      "display_name": "Python 3"
    },
    "language_info": {
      "name": "python"
    }
  },
  "cells": [
    {
      "cell_type": "markdown",
      "metadata": {
        "id": "view-in-github",
        "colab_type": "text"
      },
      "source": [
        "<a href=\"https://colab.research.google.com/github/liv20/Caltech-CS155-2022/blob/main/miniprojects/data_processing.ipynb\" target=\"_parent\"><img src=\"https://colab.research.google.com/assets/colab-badge.svg\" alt=\"Open In Colab\"/></a>"
      ]
    },
    {
      "cell_type": "code",
      "execution_count": 1,
      "metadata": {
        "id": "f9K7XoMVPMxb"
      },
      "outputs": [],
      "source": [
        "import numpy as np # linear algebra\n",
        "import pandas as pd # data processing, CSV file I/O (e.g. pd.read_csv)\n",
        "\n",
        "import matplotlib.pyplot as plt\n",
        "import seaborn as sns\n",
        "\n",
        "import sklearn\n",
        "\n",
        "import scipy\n",
        "\n",
        "train_file = 'https://raw.githubusercontent.com/derekqin8/Caltech-CS155-2022/main/mps/CS155_mp1/data/LOANS_TRAIN.csv'\n",
        "test_file = 'https://raw.githubusercontent.com/derekqin8/Caltech-CS155-2022/main/mps/CS155_mp1/data/LOANS_TEST.csv'"
      ]
    },
    {
      "cell_type": "code",
      "source": [
        "df = pd.read_csv(train_file)\n",
        "test_df = pd.read_csv(test_file)\n",
        "df.head()"
      ],
      "metadata": {
        "colab": {
          "base_uri": "https://localhost:8080/",
          "height": 409
        },
        "id": "3I1pTOWmPdad",
        "outputId": "284ae8a6-ed0f-4fe0-ff75-d9808883c02a"
      },
      "execution_count": 2,
      "outputs": [
        {
          "output_type": "execute_result",
          "data": {
            "text/html": [
              "\n",
              "  <div id=\"df-d8d1f20f-3f48-4287-851b-f65dbdc13cf8\">\n",
              "    <div class=\"colab-df-container\">\n",
              "      <div>\n",
              "<style scoped>\n",
              "    .dataframe tbody tr th:only-of-type {\n",
              "        vertical-align: middle;\n",
              "    }\n",
              "\n",
              "    .dataframe tbody tr th {\n",
              "        vertical-align: top;\n",
              "    }\n",
              "\n",
              "    .dataframe thead th {\n",
              "        text-align: right;\n",
              "    }\n",
              "</style>\n",
              "<table border=\"1\" class=\"dataframe\">\n",
              "  <thead>\n",
              "    <tr style=\"text-align: right;\">\n",
              "      <th></th>\n",
              "      <th>id</th>\n",
              "      <th>loan_amnt</th>\n",
              "      <th>term_(months)</th>\n",
              "      <th>int_rate</th>\n",
              "      <th>installment</th>\n",
              "      <th>grade</th>\n",
              "      <th>sub_grade</th>\n",
              "      <th>emp_title</th>\n",
              "      <th>emp_length</th>\n",
              "      <th>home_ownership</th>\n",
              "      <th>annual_inc</th>\n",
              "      <th>verification_status</th>\n",
              "      <th>issue_d</th>\n",
              "      <th>purpose</th>\n",
              "      <th>title</th>\n",
              "      <th>zip_code</th>\n",
              "      <th>addr_state</th>\n",
              "      <th>dti</th>\n",
              "      <th>earliest_cr_line</th>\n",
              "      <th>open_acc</th>\n",
              "      <th>pub_rec</th>\n",
              "      <th>revol_bal</th>\n",
              "      <th>revol_util</th>\n",
              "      <th>total_acc</th>\n",
              "      <th>initial_list_status</th>\n",
              "      <th>application_type</th>\n",
              "      <th>mort_acc</th>\n",
              "      <th>pub_rec_bankruptcies</th>\n",
              "      <th>loan_status</th>\n",
              "    </tr>\n",
              "  </thead>\n",
              "  <tbody>\n",
              "    <tr>\n",
              "      <th>0</th>\n",
              "      <td>0</td>\n",
              "      <td>5000</td>\n",
              "      <td>36</td>\n",
              "      <td>10.65%</td>\n",
              "      <td>162.87</td>\n",
              "      <td>B</td>\n",
              "      <td>B2</td>\n",
              "      <td>NaN</td>\n",
              "      <td>10+ years</td>\n",
              "      <td>RENT</td>\n",
              "      <td>24000.0</td>\n",
              "      <td>Verified</td>\n",
              "      <td>Dec-2011</td>\n",
              "      <td>credit_card</td>\n",
              "      <td>Computer</td>\n",
              "      <td>860xx</td>\n",
              "      <td>AZ</td>\n",
              "      <td>27.65</td>\n",
              "      <td>Jan-1985</td>\n",
              "      <td>3</td>\n",
              "      <td>0</td>\n",
              "      <td>13648</td>\n",
              "      <td>83.7%</td>\n",
              "      <td>9</td>\n",
              "      <td>f</td>\n",
              "      <td>Individual</td>\n",
              "      <td>NaN</td>\n",
              "      <td>0.0</td>\n",
              "      <td>Fully Paid</td>\n",
              "    </tr>\n",
              "    <tr>\n",
              "      <th>1</th>\n",
              "      <td>1</td>\n",
              "      <td>2500</td>\n",
              "      <td>60</td>\n",
              "      <td>15.27%</td>\n",
              "      <td>59.83</td>\n",
              "      <td>C</td>\n",
              "      <td>C4</td>\n",
              "      <td>Ryder</td>\n",
              "      <td>&lt; 1 year</td>\n",
              "      <td>RENT</td>\n",
              "      <td>30000.0</td>\n",
              "      <td>Source Verified</td>\n",
              "      <td>Dec-2011</td>\n",
              "      <td>car</td>\n",
              "      <td>bike</td>\n",
              "      <td>309xx</td>\n",
              "      <td>GA</td>\n",
              "      <td>1.00</td>\n",
              "      <td>Apr-1999</td>\n",
              "      <td>3</td>\n",
              "      <td>0</td>\n",
              "      <td>1687</td>\n",
              "      <td>9.4%</td>\n",
              "      <td>4</td>\n",
              "      <td>f</td>\n",
              "      <td>Individual</td>\n",
              "      <td>NaN</td>\n",
              "      <td>0.0</td>\n",
              "      <td>Charged Off</td>\n",
              "    </tr>\n",
              "    <tr>\n",
              "      <th>2</th>\n",
              "      <td>2</td>\n",
              "      <td>2400</td>\n",
              "      <td>36</td>\n",
              "      <td>15.96%</td>\n",
              "      <td>84.33</td>\n",
              "      <td>C</td>\n",
              "      <td>C5</td>\n",
              "      <td>NaN</td>\n",
              "      <td>10+ years</td>\n",
              "      <td>RENT</td>\n",
              "      <td>12252.0</td>\n",
              "      <td>Not Verified</td>\n",
              "      <td>Dec-2011</td>\n",
              "      <td>small_business</td>\n",
              "      <td>real estate business</td>\n",
              "      <td>606xx</td>\n",
              "      <td>IL</td>\n",
              "      <td>8.72</td>\n",
              "      <td>Nov-2001</td>\n",
              "      <td>2</td>\n",
              "      <td>0</td>\n",
              "      <td>2956</td>\n",
              "      <td>98.5%</td>\n",
              "      <td>10</td>\n",
              "      <td>f</td>\n",
              "      <td>Individual</td>\n",
              "      <td>NaN</td>\n",
              "      <td>0.0</td>\n",
              "      <td>Fully Paid</td>\n",
              "    </tr>\n",
              "    <tr>\n",
              "      <th>3</th>\n",
              "      <td>3</td>\n",
              "      <td>10000</td>\n",
              "      <td>36</td>\n",
              "      <td>13.49%</td>\n",
              "      <td>339.31</td>\n",
              "      <td>C</td>\n",
              "      <td>C1</td>\n",
              "      <td>AIR RESOURCES BOARD</td>\n",
              "      <td>10+ years</td>\n",
              "      <td>RENT</td>\n",
              "      <td>49200.0</td>\n",
              "      <td>Source Verified</td>\n",
              "      <td>Dec-2011</td>\n",
              "      <td>other</td>\n",
              "      <td>personel</td>\n",
              "      <td>917xx</td>\n",
              "      <td>CA</td>\n",
              "      <td>20.00</td>\n",
              "      <td>Feb-1996</td>\n",
              "      <td>10</td>\n",
              "      <td>0</td>\n",
              "      <td>5598</td>\n",
              "      <td>21%</td>\n",
              "      <td>37</td>\n",
              "      <td>f</td>\n",
              "      <td>Individual</td>\n",
              "      <td>NaN</td>\n",
              "      <td>0.0</td>\n",
              "      <td>Fully Paid</td>\n",
              "    </tr>\n",
              "    <tr>\n",
              "      <th>4</th>\n",
              "      <td>4</td>\n",
              "      <td>3000</td>\n",
              "      <td>60</td>\n",
              "      <td>12.69%</td>\n",
              "      <td>67.79</td>\n",
              "      <td>B</td>\n",
              "      <td>B5</td>\n",
              "      <td>University Medical Group</td>\n",
              "      <td>1 year</td>\n",
              "      <td>RENT</td>\n",
              "      <td>80000.0</td>\n",
              "      <td>Source Verified</td>\n",
              "      <td>Dec-2011</td>\n",
              "      <td>other</td>\n",
              "      <td>Personal</td>\n",
              "      <td>972xx</td>\n",
              "      <td>OR</td>\n",
              "      <td>17.94</td>\n",
              "      <td>Jan-1996</td>\n",
              "      <td>15</td>\n",
              "      <td>0</td>\n",
              "      <td>27783</td>\n",
              "      <td>53.9%</td>\n",
              "      <td>38</td>\n",
              "      <td>f</td>\n",
              "      <td>Individual</td>\n",
              "      <td>NaN</td>\n",
              "      <td>0.0</td>\n",
              "      <td>Fully Paid</td>\n",
              "    </tr>\n",
              "  </tbody>\n",
              "</table>\n",
              "</div>\n",
              "      <button class=\"colab-df-convert\" onclick=\"convertToInteractive('df-d8d1f20f-3f48-4287-851b-f65dbdc13cf8')\"\n",
              "              title=\"Convert this dataframe to an interactive table.\"\n",
              "              style=\"display:none;\">\n",
              "        \n",
              "  <svg xmlns=\"http://www.w3.org/2000/svg\" height=\"24px\"viewBox=\"0 0 24 24\"\n",
              "       width=\"24px\">\n",
              "    <path d=\"M0 0h24v24H0V0z\" fill=\"none\"/>\n",
              "    <path d=\"M18.56 5.44l.94 2.06.94-2.06 2.06-.94-2.06-.94-.94-2.06-.94 2.06-2.06.94zm-11 1L8.5 8.5l.94-2.06 2.06-.94-2.06-.94L8.5 2.5l-.94 2.06-2.06.94zm10 10l.94 2.06.94-2.06 2.06-.94-2.06-.94-.94-2.06-.94 2.06-2.06.94z\"/><path d=\"M17.41 7.96l-1.37-1.37c-.4-.4-.92-.59-1.43-.59-.52 0-1.04.2-1.43.59L10.3 9.45l-7.72 7.72c-.78.78-.78 2.05 0 2.83L4 21.41c.39.39.9.59 1.41.59.51 0 1.02-.2 1.41-.59l7.78-7.78 2.81-2.81c.8-.78.8-2.07 0-2.86zM5.41 20L4 18.59l7.72-7.72 1.47 1.35L5.41 20z\"/>\n",
              "  </svg>\n",
              "      </button>\n",
              "      \n",
              "  <style>\n",
              "    .colab-df-container {\n",
              "      display:flex;\n",
              "      flex-wrap:wrap;\n",
              "      gap: 12px;\n",
              "    }\n",
              "\n",
              "    .colab-df-convert {\n",
              "      background-color: #E8F0FE;\n",
              "      border: none;\n",
              "      border-radius: 50%;\n",
              "      cursor: pointer;\n",
              "      display: none;\n",
              "      fill: #1967D2;\n",
              "      height: 32px;\n",
              "      padding: 0 0 0 0;\n",
              "      width: 32px;\n",
              "    }\n",
              "\n",
              "    .colab-df-convert:hover {\n",
              "      background-color: #E2EBFA;\n",
              "      box-shadow: 0px 1px 2px rgba(60, 64, 67, 0.3), 0px 1px 3px 1px rgba(60, 64, 67, 0.15);\n",
              "      fill: #174EA6;\n",
              "    }\n",
              "\n",
              "    [theme=dark] .colab-df-convert {\n",
              "      background-color: #3B4455;\n",
              "      fill: #D2E3FC;\n",
              "    }\n",
              "\n",
              "    [theme=dark] .colab-df-convert:hover {\n",
              "      background-color: #434B5C;\n",
              "      box-shadow: 0px 1px 3px 1px rgba(0, 0, 0, 0.15);\n",
              "      filter: drop-shadow(0px 1px 2px rgba(0, 0, 0, 0.3));\n",
              "      fill: #FFFFFF;\n",
              "    }\n",
              "  </style>\n",
              "\n",
              "      <script>\n",
              "        const buttonEl =\n",
              "          document.querySelector('#df-d8d1f20f-3f48-4287-851b-f65dbdc13cf8 button.colab-df-convert');\n",
              "        buttonEl.style.display =\n",
              "          google.colab.kernel.accessAllowed ? 'block' : 'none';\n",
              "\n",
              "        async function convertToInteractive(key) {\n",
              "          const element = document.querySelector('#df-d8d1f20f-3f48-4287-851b-f65dbdc13cf8');\n",
              "          const dataTable =\n",
              "            await google.colab.kernel.invokeFunction('convertToInteractive',\n",
              "                                                     [key], {});\n",
              "          if (!dataTable) return;\n",
              "\n",
              "          const docLinkHtml = 'Like what you see? Visit the ' +\n",
              "            '<a target=\"_blank\" href=https://colab.research.google.com/notebooks/data_table.ipynb>data table notebook</a>'\n",
              "            + ' to learn more about interactive tables.';\n",
              "          element.innerHTML = '';\n",
              "          dataTable['output_type'] = 'display_data';\n",
              "          await google.colab.output.renderOutput(dataTable, element);\n",
              "          const docLink = document.createElement('div');\n",
              "          docLink.innerHTML = docLinkHtml;\n",
              "          element.appendChild(docLink);\n",
              "        }\n",
              "      </script>\n",
              "    </div>\n",
              "  </div>\n",
              "  "
            ],
            "text/plain": [
              "   id  loan_amnt  term_(months)  ... mort_acc  pub_rec_bankruptcies  loan_status\n",
              "0   0       5000             36  ...      NaN                   0.0   Fully Paid\n",
              "1   1       2500             60  ...      NaN                   0.0  Charged Off\n",
              "2   2       2400             36  ...      NaN                   0.0   Fully Paid\n",
              "3   3      10000             36  ...      NaN                   0.0   Fully Paid\n",
              "4   4       3000             60  ...      NaN                   0.0   Fully Paid\n",
              "\n",
              "[5 rows x 29 columns]"
            ]
          },
          "metadata": {},
          "execution_count": 2
        }
      ]
    },
    {
      "cell_type": "code",
      "source": [
        "df.info()"
      ],
      "metadata": {
        "colab": {
          "base_uri": "https://localhost:8080/"
        },
        "id": "cXAenHSGmGHd",
        "outputId": "e5355b8d-9229-448f-a533-4b51cc1b3968"
      },
      "execution_count": 3,
      "outputs": [
        {
          "output_type": "stream",
          "name": "stdout",
          "text": [
            "<class 'pandas.core.frame.DataFrame'>\n",
            "RangeIndex: 197250 entries, 0 to 197249\n",
            "Data columns (total 29 columns):\n",
            " #   Column                Non-Null Count   Dtype  \n",
            "---  ------                --------------   -----  \n",
            " 0   id                    197250 non-null  int64  \n",
            " 1   loan_amnt             197250 non-null  int64  \n",
            " 2   term_(months)         197250 non-null  int64  \n",
            " 3   int_rate              197250 non-null  object \n",
            " 4   installment           197250 non-null  float64\n",
            " 5   grade                 197250 non-null  object \n",
            " 6   sub_grade             197250 non-null  object \n",
            " 7   emp_title             184917 non-null  object \n",
            " 8   emp_length            189334 non-null  object \n",
            " 9   home_ownership        197250 non-null  object \n",
            " 10  annual_inc            197250 non-null  float64\n",
            " 11  verification_status   197250 non-null  object \n",
            " 12  issue_d               197250 non-null  object \n",
            " 13  purpose               197250 non-null  object \n",
            " 14  title                 197232 non-null  object \n",
            " 15  zip_code              197250 non-null  object \n",
            " 16  addr_state            197250 non-null  object \n",
            " 17  dti                   197250 non-null  float64\n",
            " 18  earliest_cr_line      197250 non-null  object \n",
            " 19  open_acc              197250 non-null  int64  \n",
            " 20  pub_rec               197250 non-null  int64  \n",
            " 21  revol_bal             197250 non-null  int64  \n",
            " 22  revol_util            197108 non-null  object \n",
            " 23  total_acc             197250 non-null  int64  \n",
            " 24  initial_list_status   197250 non-null  object \n",
            " 25  application_type      197250 non-null  object \n",
            " 26  mort_acc              157464 non-null  float64\n",
            " 27  pub_rec_bankruptcies  196553 non-null  float64\n",
            " 28  loan_status           197250 non-null  object \n",
            "dtypes: float64(5), int64(7), object(17)\n",
            "memory usage: 43.6+ MB\n"
          ]
        }
      ]
    },
    {
      "cell_type": "code",
      "source": [
        "dropped_features = ['addr_state', 'application_type', 'emp_title', 'grade',\n",
        "                    'revol_bal', 'title', 'total_acc', 'zip_code', 'mort_acc']\n",
        "# drop unneeded features and id on train data\n",
        "df.drop(dropped_features + ['id'], axis=1, inplace=True)\n",
        "# drop unneeded features on test data\n",
        "ids = test_df['id']\n",
        "test_df.drop(dropped_features + ['id'], axis=1, inplace=True)\n",
        "\n",
        "df.head()"
      ],
      "metadata": {
        "colab": {
          "base_uri": "https://localhost:8080/",
          "height": 357
        },
        "id": "VzClifmeVaeu",
        "outputId": "b7eacc4f-af35-47c0-d03b-d37cae131204"
      },
      "execution_count": 4,
      "outputs": [
        {
          "output_type": "execute_result",
          "data": {
            "text/html": [
              "\n",
              "  <div id=\"df-99c14cc4-3945-40db-8d83-f136204f5155\">\n",
              "    <div class=\"colab-df-container\">\n",
              "      <div>\n",
              "<style scoped>\n",
              "    .dataframe tbody tr th:only-of-type {\n",
              "        vertical-align: middle;\n",
              "    }\n",
              "\n",
              "    .dataframe tbody tr th {\n",
              "        vertical-align: top;\n",
              "    }\n",
              "\n",
              "    .dataframe thead th {\n",
              "        text-align: right;\n",
              "    }\n",
              "</style>\n",
              "<table border=\"1\" class=\"dataframe\">\n",
              "  <thead>\n",
              "    <tr style=\"text-align: right;\">\n",
              "      <th></th>\n",
              "      <th>loan_amnt</th>\n",
              "      <th>term_(months)</th>\n",
              "      <th>int_rate</th>\n",
              "      <th>installment</th>\n",
              "      <th>sub_grade</th>\n",
              "      <th>emp_length</th>\n",
              "      <th>home_ownership</th>\n",
              "      <th>annual_inc</th>\n",
              "      <th>verification_status</th>\n",
              "      <th>issue_d</th>\n",
              "      <th>purpose</th>\n",
              "      <th>dti</th>\n",
              "      <th>earliest_cr_line</th>\n",
              "      <th>open_acc</th>\n",
              "      <th>pub_rec</th>\n",
              "      <th>revol_util</th>\n",
              "      <th>initial_list_status</th>\n",
              "      <th>pub_rec_bankruptcies</th>\n",
              "      <th>loan_status</th>\n",
              "    </tr>\n",
              "  </thead>\n",
              "  <tbody>\n",
              "    <tr>\n",
              "      <th>0</th>\n",
              "      <td>5000</td>\n",
              "      <td>36</td>\n",
              "      <td>10.65%</td>\n",
              "      <td>162.87</td>\n",
              "      <td>B2</td>\n",
              "      <td>10+ years</td>\n",
              "      <td>RENT</td>\n",
              "      <td>24000.0</td>\n",
              "      <td>Verified</td>\n",
              "      <td>Dec-2011</td>\n",
              "      <td>credit_card</td>\n",
              "      <td>27.65</td>\n",
              "      <td>Jan-1985</td>\n",
              "      <td>3</td>\n",
              "      <td>0</td>\n",
              "      <td>83.7%</td>\n",
              "      <td>f</td>\n",
              "      <td>0.0</td>\n",
              "      <td>Fully Paid</td>\n",
              "    </tr>\n",
              "    <tr>\n",
              "      <th>1</th>\n",
              "      <td>2500</td>\n",
              "      <td>60</td>\n",
              "      <td>15.27%</td>\n",
              "      <td>59.83</td>\n",
              "      <td>C4</td>\n",
              "      <td>&lt; 1 year</td>\n",
              "      <td>RENT</td>\n",
              "      <td>30000.0</td>\n",
              "      <td>Source Verified</td>\n",
              "      <td>Dec-2011</td>\n",
              "      <td>car</td>\n",
              "      <td>1.00</td>\n",
              "      <td>Apr-1999</td>\n",
              "      <td>3</td>\n",
              "      <td>0</td>\n",
              "      <td>9.4%</td>\n",
              "      <td>f</td>\n",
              "      <td>0.0</td>\n",
              "      <td>Charged Off</td>\n",
              "    </tr>\n",
              "    <tr>\n",
              "      <th>2</th>\n",
              "      <td>2400</td>\n",
              "      <td>36</td>\n",
              "      <td>15.96%</td>\n",
              "      <td>84.33</td>\n",
              "      <td>C5</td>\n",
              "      <td>10+ years</td>\n",
              "      <td>RENT</td>\n",
              "      <td>12252.0</td>\n",
              "      <td>Not Verified</td>\n",
              "      <td>Dec-2011</td>\n",
              "      <td>small_business</td>\n",
              "      <td>8.72</td>\n",
              "      <td>Nov-2001</td>\n",
              "      <td>2</td>\n",
              "      <td>0</td>\n",
              "      <td>98.5%</td>\n",
              "      <td>f</td>\n",
              "      <td>0.0</td>\n",
              "      <td>Fully Paid</td>\n",
              "    </tr>\n",
              "    <tr>\n",
              "      <th>3</th>\n",
              "      <td>10000</td>\n",
              "      <td>36</td>\n",
              "      <td>13.49%</td>\n",
              "      <td>339.31</td>\n",
              "      <td>C1</td>\n",
              "      <td>10+ years</td>\n",
              "      <td>RENT</td>\n",
              "      <td>49200.0</td>\n",
              "      <td>Source Verified</td>\n",
              "      <td>Dec-2011</td>\n",
              "      <td>other</td>\n",
              "      <td>20.00</td>\n",
              "      <td>Feb-1996</td>\n",
              "      <td>10</td>\n",
              "      <td>0</td>\n",
              "      <td>21%</td>\n",
              "      <td>f</td>\n",
              "      <td>0.0</td>\n",
              "      <td>Fully Paid</td>\n",
              "    </tr>\n",
              "    <tr>\n",
              "      <th>4</th>\n",
              "      <td>3000</td>\n",
              "      <td>60</td>\n",
              "      <td>12.69%</td>\n",
              "      <td>67.79</td>\n",
              "      <td>B5</td>\n",
              "      <td>1 year</td>\n",
              "      <td>RENT</td>\n",
              "      <td>80000.0</td>\n",
              "      <td>Source Verified</td>\n",
              "      <td>Dec-2011</td>\n",
              "      <td>other</td>\n",
              "      <td>17.94</td>\n",
              "      <td>Jan-1996</td>\n",
              "      <td>15</td>\n",
              "      <td>0</td>\n",
              "      <td>53.9%</td>\n",
              "      <td>f</td>\n",
              "      <td>0.0</td>\n",
              "      <td>Fully Paid</td>\n",
              "    </tr>\n",
              "  </tbody>\n",
              "</table>\n",
              "</div>\n",
              "      <button class=\"colab-df-convert\" onclick=\"convertToInteractive('df-99c14cc4-3945-40db-8d83-f136204f5155')\"\n",
              "              title=\"Convert this dataframe to an interactive table.\"\n",
              "              style=\"display:none;\">\n",
              "        \n",
              "  <svg xmlns=\"http://www.w3.org/2000/svg\" height=\"24px\"viewBox=\"0 0 24 24\"\n",
              "       width=\"24px\">\n",
              "    <path d=\"M0 0h24v24H0V0z\" fill=\"none\"/>\n",
              "    <path d=\"M18.56 5.44l.94 2.06.94-2.06 2.06-.94-2.06-.94-.94-2.06-.94 2.06-2.06.94zm-11 1L8.5 8.5l.94-2.06 2.06-.94-2.06-.94L8.5 2.5l-.94 2.06-2.06.94zm10 10l.94 2.06.94-2.06 2.06-.94-2.06-.94-.94-2.06-.94 2.06-2.06.94z\"/><path d=\"M17.41 7.96l-1.37-1.37c-.4-.4-.92-.59-1.43-.59-.52 0-1.04.2-1.43.59L10.3 9.45l-7.72 7.72c-.78.78-.78 2.05 0 2.83L4 21.41c.39.39.9.59 1.41.59.51 0 1.02-.2 1.41-.59l7.78-7.78 2.81-2.81c.8-.78.8-2.07 0-2.86zM5.41 20L4 18.59l7.72-7.72 1.47 1.35L5.41 20z\"/>\n",
              "  </svg>\n",
              "      </button>\n",
              "      \n",
              "  <style>\n",
              "    .colab-df-container {\n",
              "      display:flex;\n",
              "      flex-wrap:wrap;\n",
              "      gap: 12px;\n",
              "    }\n",
              "\n",
              "    .colab-df-convert {\n",
              "      background-color: #E8F0FE;\n",
              "      border: none;\n",
              "      border-radius: 50%;\n",
              "      cursor: pointer;\n",
              "      display: none;\n",
              "      fill: #1967D2;\n",
              "      height: 32px;\n",
              "      padding: 0 0 0 0;\n",
              "      width: 32px;\n",
              "    }\n",
              "\n",
              "    .colab-df-convert:hover {\n",
              "      background-color: #E2EBFA;\n",
              "      box-shadow: 0px 1px 2px rgba(60, 64, 67, 0.3), 0px 1px 3px 1px rgba(60, 64, 67, 0.15);\n",
              "      fill: #174EA6;\n",
              "    }\n",
              "\n",
              "    [theme=dark] .colab-df-convert {\n",
              "      background-color: #3B4455;\n",
              "      fill: #D2E3FC;\n",
              "    }\n",
              "\n",
              "    [theme=dark] .colab-df-convert:hover {\n",
              "      background-color: #434B5C;\n",
              "      box-shadow: 0px 1px 3px 1px rgba(0, 0, 0, 0.15);\n",
              "      filter: drop-shadow(0px 1px 2px rgba(0, 0, 0, 0.3));\n",
              "      fill: #FFFFFF;\n",
              "    }\n",
              "  </style>\n",
              "\n",
              "      <script>\n",
              "        const buttonEl =\n",
              "          document.querySelector('#df-99c14cc4-3945-40db-8d83-f136204f5155 button.colab-df-convert');\n",
              "        buttonEl.style.display =\n",
              "          google.colab.kernel.accessAllowed ? 'block' : 'none';\n",
              "\n",
              "        async function convertToInteractive(key) {\n",
              "          const element = document.querySelector('#df-99c14cc4-3945-40db-8d83-f136204f5155');\n",
              "          const dataTable =\n",
              "            await google.colab.kernel.invokeFunction('convertToInteractive',\n",
              "                                                     [key], {});\n",
              "          if (!dataTable) return;\n",
              "\n",
              "          const docLinkHtml = 'Like what you see? Visit the ' +\n",
              "            '<a target=\"_blank\" href=https://colab.research.google.com/notebooks/data_table.ipynb>data table notebook</a>'\n",
              "            + ' to learn more about interactive tables.';\n",
              "          element.innerHTML = '';\n",
              "          dataTable['output_type'] = 'display_data';\n",
              "          await google.colab.output.renderOutput(dataTable, element);\n",
              "          const docLink = document.createElement('div');\n",
              "          docLink.innerHTML = docLinkHtml;\n",
              "          element.appendChild(docLink);\n",
              "        }\n",
              "      </script>\n",
              "    </div>\n",
              "  </div>\n",
              "  "
            ],
            "text/plain": [
              "   loan_amnt  term_(months)  ... pub_rec_bankruptcies  loan_status\n",
              "0       5000             36  ...                  0.0   Fully Paid\n",
              "1       2500             60  ...                  0.0  Charged Off\n",
              "2       2400             36  ...                  0.0   Fully Paid\n",
              "3      10000             36  ...                  0.0   Fully Paid\n",
              "4       3000             60  ...                  0.0   Fully Paid\n",
              "\n",
              "[5 rows x 19 columns]"
            ]
          },
          "metadata": {},
          "execution_count": 4
        }
      ]
    },
    {
      "cell_type": "code",
      "source": [
        "df['days_from_earliest_cr'] = (pd.to_datetime(df['issue_d']) - pd.to_datetime(df['earliest_cr_line'])).map(lambda x: x.days)\n",
        "df.drop(['issue_d', 'earliest_cr_line'], axis=1, inplace=True)\n",
        "df['int_rate'] = df['int_rate'].str[:-1].apply(float)\n",
        "df['revol_util'] = df['revol_util'].str[:-1].apply(float)\n",
        "\n",
        "test_df['days_from_earliest_cr'] = (pd.to_datetime(test_df['issue_d']) - \\\n",
        "                                    pd.to_datetime(test_df['earliest_cr_line'])).map(lambda x: x.days)\n",
        "test_df.drop(['issue_d', 'earliest_cr_line'], axis=1, inplace=True)\n",
        "test_df['int_rate'] = test_df['int_rate'].str[:-1].apply(float)\n",
        "test_df['revol_util'] = test_df['revol_util'].str[:-1].apply(float)"
      ],
      "metadata": {
        "id": "pEnEDBw-owF9"
      },
      "execution_count": 5,
      "outputs": []
    },
    {
      "cell_type": "code",
      "source": [
        "num_features = ['annual_inc', 'installment', 'int_rate',\n",
        "                'days_from_earliest_cr', 'loan_amnt', 'open_acc',\n",
        "                'revol_util', 'dti', 'days_from_earliest_cr']"
      ],
      "metadata": {
        "id": "V1alIBG3qXql"
      },
      "execution_count": 6,
      "outputs": []
    },
    {
      "cell_type": "code",
      "source": [
        "fig, ax = plt.subplots(3, 3)\n",
        "\n",
        "m = 0\n",
        "for num_feature in num_features:\n",
        "  ax[m // 3, m % 3].set_title(num_feature)\n",
        "  df[num_feature].hist(ax=ax[m // 3, m % 3], figsize=(9, 9))\n",
        "  m += 1\n",
        "plt.tight_layout()"
      ],
      "metadata": {
        "colab": {
          "base_uri": "https://localhost:8080/",
          "height": 657
        },
        "id": "zxyUmuAxq1kq",
        "outputId": "e7b5d3bc-59e7-46e0-f59f-671a477b1ccb"
      },
      "execution_count": 7,
      "outputs": [
        {
          "output_type": "display_data",
          "data": {
            "image/png": "[encoded data removed]",
            "text/plain": [
              "<Figure size 648x648 with 9 Axes>"
            ]
          },
          "metadata": {
            "needs_background": "light"
          }
        }
      ]
    },
    {
      "cell_type": "code",
      "source": [
        "def box_cox(data, test_data, col_name):\n",
        "  col_data = np.array(data[col_name]) + 1\n",
        "  column_data_clean = col_data[~np.isnan(col_data)]\n",
        "  l, opt_lambda = scipy.stats.boxcox(column_data_clean)\n",
        "\n",
        "  data[col_name] = scipy.stats.boxcox(col_data, lmbda=opt_lambda)\n",
        "\n",
        "  test_col_data = test_data[col_name] + 1\n",
        "  test_data[col_name] = scipy.stats.boxcox(test_col_data, lmbda=opt_lambda)"
      ],
      "metadata": {
        "id": "IP8mGIkqXKGq"
      },
      "execution_count": 8,
      "outputs": []
    },
    {
      "cell_type": "code",
      "source": [
        "for num_feature in num_features:\n",
        "  box_cox(df, test_df, num_feature)"
      ],
      "metadata": {
        "id": "TPQdEOglZk46"
      },
      "execution_count": 9,
      "outputs": []
    },
    {
      "cell_type": "code",
      "source": [
        "fig, ax = plt.subplots(3, 3)\n",
        "\n",
        "m = 0\n",
        "for num_feature in num_features:\n",
        "  ax[m // 3, m % 3].set_title(num_feature)\n",
        "  df[num_feature].hist(ax=ax[m // 3, m % 3], figsize=(9, 9))\n",
        "  m += 1\n",
        "plt.tight_layout()"
      ],
      "metadata": {
        "colab": {
          "base_uri": "https://localhost:8080/",
          "height": 657
        },
        "id": "9ofB9FxStgrc",
        "outputId": "15eecdc2-f022-4402-fc16-6ba9eb8aaef7"
      },
      "execution_count": 10,
      "outputs": [
        {
          "output_type": "display_data",
          "data": {
            "image/png": "[encoded data removed]",
            "text/plain": [
              "<Figure size 648x648 with 9 Axes>"
            ]
          },
          "metadata": {
            "needs_background": "light"
          }
        }
      ]
    },
    {
      "cell_type": "markdown",
      "source": [
        "# Categorical"
      ],
      "metadata": {
        "id": "YqQGvSo_wVdf"
      }
    },
    {
      "cell_type": "code",
      "source": [
        "df['initial_list_status'] = (df['initial_list_status'] == 'f')\n",
        "df['term_(months)'] = df['term_(months)'] == 36\n",
        "df['pub_recs'] = (df['pub_rec'] > 0) | (df['pub_rec_bankruptcies'] > 0)\n",
        "df.drop(['pub_rec', 'pub_rec_bankruptcies'], axis=1, inplace=True)\n",
        "\n",
        "test_df['initial_list_status'] = (test_df['initial_list_status'] == 'f')\n",
        "test_df['term_(months)'] = test_df['term_(months)'] == 36\n",
        "test_df['pub_recs'] = (test_df['pub_rec'] > 0) | (test_df['pub_rec_bankruptcies'] > 0)\n",
        "test_df.drop(['pub_rec', 'pub_rec_bankruptcies'], axis=1, inplace=True)"
      ],
      "metadata": {
        "id": "sr6LYWGcwWR_"
      },
      "execution_count": 11,
      "outputs": []
    },
    {
      "cell_type": "code",
      "source": [
        "df = pd.get_dummies(df, prefix='ho', columns=['home_ownership'])\n",
        "df = pd.get_dummies(df, prefix='vs', columns=['verification_status'])\n",
        "test_df = test_df.reindex(columns=df.columns, fill_value=0)"
      ],
      "metadata": {
        "id": "dTXHeVPzyCFP"
      },
      "execution_count": 12,
      "outputs": []
    },
    {
      "cell_type": "code",
      "source": [
        "from sklearn.preprocessing import OrdinalEncoder\n",
        "encoder = OrdinalEncoder()\n",
        "df['sub_grade'] = encoder.fit_transform(df[['sub_grade']])\n",
        "test_df['sub_grade'] = encoder.transform(test_df[['sub_grade']])"
      ],
      "metadata": {
        "id": "m7gCmGAAy0fm"
      },
      "execution_count": 13,
      "outputs": []
    },
    {
      "cell_type": "code",
      "source": [
        "main_purposes = ['debt_consolidation', 'credit_card']\n",
        "conditions = [df['purpose'].str.contains(purpose) for purpose in main_purposes]\n",
        "df['purpose'] = np.select(conditions, main_purposes, default='other')\n",
        "df = pd.get_dummies(df, prefix='purp', columns=['purpose'])\n",
        "\n",
        "test_conditions = [test_df['purpose'].str.contains(purpose) for purpose in main_purposes]\n",
        "test_df['purpose'] = np.select(test_conditions, main_purposes, default='other')\n",
        "test_df = pd.get_dummies(test_df, prefix='purp', columns=['purpose'])"
      ],
      "metadata": {
        "id": "EWGBPkL30T5q"
      },
      "execution_count": 14,
      "outputs": []
    },
    {
      "cell_type": "code",
      "source": [
        "emp_length_map = {\n",
        "    '0 years': 'no value',\n",
        "    '< 1 year': '0-4',\n",
        "    '1 year': '0-4',\n",
        "    '2 years': '0-4',\n",
        "    '3 years': '0-4',\n",
        "    '4 years': '0-4',\n",
        "    '5 years': '5-9',\n",
        "    '6 years': '5-9',\n",
        "    '7 years': '5-9',\n",
        "    '8 years': '5-9',\n",
        "    '9 years': '5-9',\n",
        "    '10+ years': '10+'\n",
        "}\n",
        "\n",
        "df['emp_length'] = df['emp_length'].fillna('0 years')\n",
        "df['emp_length'] = df['emp_length'].map(lambda x: emp_length_map[x])\n",
        "df = pd.get_dummies(df, prefix='el', columns=['emp_length'])\n",
        "\n",
        "test_df['emp_length'] = test_df['emp_length'].fillna('0 years')\n",
        "test_df['emp_length'] = test_df['emp_length'].map(lambda x: emp_length_map[x])\n",
        "test_df = test_df.reindex(columns=df.columns, fill_value=0)"
      ],
      "metadata": {
        "id": "ohR3bt2f4JeW"
      },
      "execution_count": 15,
      "outputs": []
    },
    {
      "cell_type": "markdown",
      "source": [
        "# Imputation"
      ],
      "metadata": {
        "id": "O-Mqu2I_E6d9"
      }
    },
    {
      "cell_type": "code",
      "source": [
        "df.columns"
      ],
      "metadata": {
        "colab": {
          "base_uri": "https://localhost:8080/"
        },
        "id": "mBQ_ccFRJafm",
        "outputId": "12ff2bdd-9f07-4cbf-c631-c00bb67943f6"
      },
      "execution_count": 16,
      "outputs": [
        {
          "output_type": "execute_result",
          "data": {
            "text/plain": [
              "Index(['loan_amnt', 'term_(months)', 'int_rate', 'installment', 'sub_grade',\n",
              "       'annual_inc', 'dti', 'open_acc', 'revol_util', 'initial_list_status',\n",
              "       'loan_status', 'days_from_earliest_cr', 'pub_recs', 'ho_MORTGAGE',\n",
              "       'ho_NONE', 'ho_OTHER', 'ho_OWN', 'ho_RENT', 'vs_Not Verified',\n",
              "       'vs_Source Verified', 'vs_Verified', 'purp_credit_card',\n",
              "       'purp_debt_consolidation', 'purp_other', 'el_0-4', 'el_10+', 'el_5-9',\n",
              "       'el_no value'],\n",
              "      dtype='object')"
            ]
          },
          "metadata": {},
          "execution_count": 16
        }
      ]
    },
    {
      "cell_type": "code",
      "source": [
        "test_df.columns"
      ],
      "metadata": {
        "colab": {
          "base_uri": "https://localhost:8080/"
        },
        "id": "4rpV-182JZTS",
        "outputId": "b3183e94-35cb-427c-85d6-e7047cbf502c"
      },
      "execution_count": 17,
      "outputs": [
        {
          "output_type": "execute_result",
          "data": {
            "text/plain": [
              "Index(['loan_amnt', 'term_(months)', 'int_rate', 'installment', 'sub_grade',\n",
              "       'annual_inc', 'dti', 'open_acc', 'revol_util', 'initial_list_status',\n",
              "       'loan_status', 'days_from_earliest_cr', 'pub_recs', 'ho_MORTGAGE',\n",
              "       'ho_NONE', 'ho_OTHER', 'ho_OWN', 'ho_RENT', 'vs_Not Verified',\n",
              "       'vs_Source Verified', 'vs_Verified', 'purp_credit_card',\n",
              "       'purp_debt_consolidation', 'purp_other', 'el_0-4', 'el_10+', 'el_5-9',\n",
              "       'el_no value'],\n",
              "      dtype='object')"
            ]
          },
          "metadata": {},
          "execution_count": 17
        }
      ]
    },
    {
      "cell_type": "code",
      "source": [
        "df.head()"
      ],
      "metadata": {
        "colab": {
          "base_uri": "https://localhost:8080/",
          "height": 287
        },
        "id": "fxZt_vXxKPU3",
        "outputId": "24bea1a5-c317-4ec1-e624-e816e2a90ad9"
      },
      "execution_count": 18,
      "outputs": [
        {
          "output_type": "execute_result",
          "data": {
            "text/html": [
              "\n",
              "  <div id=\"df-9166e2c5-6ca6-4dbb-8f39-20df39cd7ecd\">\n",
              "    <div class=\"colab-df-container\">\n",
              "      <div>\n",
              "<style scoped>\n",
              "    .dataframe tbody tr th:only-of-type {\n",
              "        vertical-align: middle;\n",
              "    }\n",
              "\n",
              "    .dataframe tbody tr th {\n",
              "        vertical-align: top;\n",
              "    }\n",
              "\n",
              "    .dataframe thead th {\n",
              "        text-align: right;\n",
              "    }\n",
              "</style>\n",
              "<table border=\"1\" class=\"dataframe\">\n",
              "  <thead>\n",
              "    <tr style=\"text-align: right;\">\n",
              "      <th></th>\n",
              "      <th>loan_amnt</th>\n",
              "      <th>term_(months)</th>\n",
              "      <th>int_rate</th>\n",
              "      <th>installment</th>\n",
              "      <th>sub_grade</th>\n",
              "      <th>annual_inc</th>\n",
              "      <th>dti</th>\n",
              "      <th>open_acc</th>\n",
              "      <th>revol_util</th>\n",
              "      <th>initial_list_status</th>\n",
              "      <th>loan_status</th>\n",
              "      <th>days_from_earliest_cr</th>\n",
              "      <th>pub_recs</th>\n",
              "      <th>ho_MORTGAGE</th>\n",
              "      <th>ho_NONE</th>\n",
              "      <th>ho_OTHER</th>\n",
              "      <th>ho_OWN</th>\n",
              "      <th>ho_RENT</th>\n",
              "      <th>vs_Not Verified</th>\n",
              "      <th>vs_Source Verified</th>\n",
              "      <th>vs_Verified</th>\n",
              "      <th>purp_credit_card</th>\n",
              "      <th>purp_debt_consolidation</th>\n",
              "      <th>purp_other</th>\n",
              "      <th>el_0-4</th>\n",
              "      <th>el_10+</th>\n",
              "      <th>el_5-9</th>\n",
              "      <th>el_no value</th>\n",
              "    </tr>\n",
              "  </thead>\n",
              "  <tbody>\n",
              "    <tr>\n",
              "      <th>0</th>\n",
              "      <td>68.506402</td>\n",
              "      <td>True</td>\n",
              "      <td>4.967106</td>\n",
              "      <td>15.406273</td>\n",
              "      <td>6.0</td>\n",
              "      <td>6.912794</td>\n",
              "      <td>16.092885</td>\n",
              "      <td>1.620395</td>\n",
              "      <td>108.914908</td>\n",
              "      <td>True</td>\n",
              "      <td>Fully Paid</td>\n",
              "      <td>30.042520</td>\n",
              "      <td>False</td>\n",
              "      <td>0</td>\n",
              "      <td>0</td>\n",
              "      <td>0</td>\n",
              "      <td>0</td>\n",
              "      <td>1</td>\n",
              "      <td>0</td>\n",
              "      <td>0</td>\n",
              "      <td>1</td>\n",
              "      <td>1</td>\n",
              "      <td>0</td>\n",
              "      <td>0</td>\n",
              "      <td>0</td>\n",
              "      <td>1</td>\n",
              "      <td>0</td>\n",
              "      <td>0</td>\n",
              "    </tr>\n",
              "    <tr>\n",
              "      <th>1</th>\n",
              "      <td>51.674461</td>\n",
              "      <td>False</td>\n",
              "      <td>6.272951</td>\n",
              "      <td>9.791565</td>\n",
              "      <td>13.0</td>\n",
              "      <td>7.011185</td>\n",
              "      <td>0.917724</td>\n",
              "      <td>1.620395</td>\n",
              "      <td>10.598505</td>\n",
              "      <td>True</td>\n",
              "      <td>Charged Off</td>\n",
              "      <td>24.734779</td>\n",
              "      <td>False</td>\n",
              "      <td>0</td>\n",
              "      <td>0</td>\n",
              "      <td>0</td>\n",
              "      <td>0</td>\n",
              "      <td>1</td>\n",
              "      <td>0</td>\n",
              "      <td>1</td>\n",
              "      <td>0</td>\n",
              "      <td>0</td>\n",
              "      <td>0</td>\n",
              "      <td>1</td>\n",
              "      <td>1</td>\n",
              "      <td>0</td>\n",
              "      <td>0</td>\n",
              "      <td>0</td>\n",
              "    </tr>\n",
              "    <tr>\n",
              "      <th>2</th>\n",
              "      <td>50.818040</td>\n",
              "      <td>True</td>\n",
              "      <td>6.451747</td>\n",
              "      <td>11.479376</td>\n",
              "      <td>14.0</td>\n",
              "      <td>6.605448</td>\n",
              "      <td>6.229869</td>\n",
              "      <td>1.242430</td>\n",
              "      <td>129.672730</td>\n",
              "      <td>True</td>\n",
              "      <td>Fully Paid</td>\n",
              "      <td>23.292905</td>\n",
              "      <td>False</td>\n",
              "      <td>0</td>\n",
              "      <td>0</td>\n",
              "      <td>0</td>\n",
              "      <td>0</td>\n",
              "      <td>1</td>\n",
              "      <td>1</td>\n",
              "      <td>0</td>\n",
              "      <td>0</td>\n",
              "      <td>0</td>\n",
              "      <td>0</td>\n",
              "      <td>1</td>\n",
              "      <td>0</td>\n",
              "      <td>1</td>\n",
              "      <td>0</td>\n",
              "      <td>0</td>\n",
              "    </tr>\n",
              "    <tr>\n",
              "      <th>3</th>\n",
              "      <td>90.565486</td>\n",
              "      <td>True</td>\n",
              "      <td>5.794100</td>\n",
              "      <td>21.111848</td>\n",
              "      <td>10.0</td>\n",
              "      <td>7.223129</td>\n",
              "      <td>12.373028</td>\n",
              "      <td>3.156105</td>\n",
              "      <td>24.863718</td>\n",
              "      <td>True</td>\n",
              "      <td>Fully Paid</td>\n",
              "      <td>26.213301</td>\n",
              "      <td>False</td>\n",
              "      <td>0</td>\n",
              "      <td>0</td>\n",
              "      <td>0</td>\n",
              "      <td>0</td>\n",
              "      <td>1</td>\n",
              "      <td>0</td>\n",
              "      <td>1</td>\n",
              "      <td>0</td>\n",
              "      <td>0</td>\n",
              "      <td>0</td>\n",
              "      <td>1</td>\n",
              "      <td>0</td>\n",
              "      <td>1</td>\n",
              "      <td>0</td>\n",
              "      <td>0</td>\n",
              "    </tr>\n",
              "    <tr>\n",
              "      <th>4</th>\n",
              "      <td>55.670496</td>\n",
              "      <td>False</td>\n",
              "      <td>5.569700</td>\n",
              "      <td>10.380183</td>\n",
              "      <td>9.0</td>\n",
              "      <td>7.423364</td>\n",
              "      <td>11.322139</td>\n",
              "      <td>3.817251</td>\n",
              "      <td>67.995479</td>\n",
              "      <td>True</td>\n",
              "      <td>Fully Paid</td>\n",
              "      <td>26.249683</td>\n",
              "      <td>False</td>\n",
              "      <td>0</td>\n",
              "      <td>0</td>\n",
              "      <td>0</td>\n",
              "      <td>0</td>\n",
              "      <td>1</td>\n",
              "      <td>0</td>\n",
              "      <td>1</td>\n",
              "      <td>0</td>\n",
              "      <td>0</td>\n",
              "      <td>0</td>\n",
              "      <td>1</td>\n",
              "      <td>1</td>\n",
              "      <td>0</td>\n",
              "      <td>0</td>\n",
              "      <td>0</td>\n",
              "    </tr>\n",
              "  </tbody>\n",
              "</table>\n",
              "</div>\n",
              "      <button class=\"colab-df-convert\" onclick=\"convertToInteractive('df-9166e2c5-6ca6-4dbb-8f39-20df39cd7ecd')\"\n",
              "              title=\"Convert this dataframe to an interactive table.\"\n",
              "              style=\"display:none;\">\n",
              "        \n",
              "  <svg xmlns=\"http://www.w3.org/2000/svg\" height=\"24px\"viewBox=\"0 0 24 24\"\n",
              "       width=\"24px\">\n",
              "    <path d=\"M0 0h24v24H0V0z\" fill=\"none\"/>\n",
              "    <path d=\"M18.56 5.44l.94 2.06.94-2.06 2.06-.94-2.06-.94-.94-2.06-.94 2.06-2.06.94zm-11 1L8.5 8.5l.94-2.06 2.06-.94-2.06-.94L8.5 2.5l-.94 2.06-2.06.94zm10 10l.94 2.06.94-2.06 2.06-.94-2.06-.94-.94-2.06-.94 2.06-2.06.94z\"/><path d=\"M17.41 7.96l-1.37-1.37c-.4-.4-.92-.59-1.43-.59-.52 0-1.04.2-1.43.59L10.3 9.45l-7.72 7.72c-.78.78-.78 2.05 0 2.83L4 21.41c.39.39.9.59 1.41.59.51 0 1.02-.2 1.41-.59l7.78-7.78 2.81-2.81c.8-.78.8-2.07 0-2.86zM5.41 20L4 18.59l7.72-7.72 1.47 1.35L5.41 20z\"/>\n",
              "  </svg>\n",
              "      </button>\n",
              "      \n",
              "  <style>\n",
              "    .colab-df-container {\n",
              "      display:flex;\n",
              "      flex-wrap:wrap;\n",
              "      gap: 12px;\n",
              "    }\n",
              "\n",
              "    .colab-df-convert {\n",
              "      background-color: #E8F0FE;\n",
              "      border: none;\n",
              "      border-radius: 50%;\n",
              "      cursor: pointer;\n",
              "      display: none;\n",
              "      fill: #1967D2;\n",
              "      height: 32px;\n",
              "      padding: 0 0 0 0;\n",
              "      width: 32px;\n",
              "    }\n",
              "\n",
              "    .colab-df-convert:hover {\n",
              "      background-color: #E2EBFA;\n",
              "      box-shadow: 0px 1px 2px rgba(60, 64, 67, 0.3), 0px 1px 3px 1px rgba(60, 64, 67, 0.15);\n",
              "      fill: #174EA6;\n",
              "    }\n",
              "\n",
              "    [theme=dark] .colab-df-convert {\n",
              "      background-color: #3B4455;\n",
              "      fill: #D2E3FC;\n",
              "    }\n",
              "\n",
              "    [theme=dark] .colab-df-convert:hover {\n",
              "      background-color: #434B5C;\n",
              "      box-shadow: 0px 1px 3px 1px rgba(0, 0, 0, 0.15);\n",
              "      filter: drop-shadow(0px 1px 2px rgba(0, 0, 0, 0.3));\n",
              "      fill: #FFFFFF;\n",
              "    }\n",
              "  </style>\n",
              "\n",
              "      <script>\n",
              "        const buttonEl =\n",
              "          document.querySelector('#df-9166e2c5-6ca6-4dbb-8f39-20df39cd7ecd button.colab-df-convert');\n",
              "        buttonEl.style.display =\n",
              "          google.colab.kernel.accessAllowed ? 'block' : 'none';\n",
              "\n",
              "        async function convertToInteractive(key) {\n",
              "          const element = document.querySelector('#df-9166e2c5-6ca6-4dbb-8f39-20df39cd7ecd');\n",
              "          const dataTable =\n",
              "            await google.colab.kernel.invokeFunction('convertToInteractive',\n",
              "                                                     [key], {});\n",
              "          if (!dataTable) return;\n",
              "\n",
              "          const docLinkHtml = 'Like what you see? Visit the ' +\n",
              "            '<a target=\"_blank\" href=https://colab.research.google.com/notebooks/data_table.ipynb>data table notebook</a>'\n",
              "            + ' to learn more about interactive tables.';\n",
              "          element.innerHTML = '';\n",
              "          dataTable['output_type'] = 'display_data';\n",
              "          await google.colab.output.renderOutput(dataTable, element);\n",
              "          const docLink = document.createElement('div');\n",
              "          docLink.innerHTML = docLinkHtml;\n",
              "          element.appendChild(docLink);\n",
              "        }\n",
              "      </script>\n",
              "    </div>\n",
              "  </div>\n",
              "  "
            ],
            "text/plain": [
              "   loan_amnt  term_(months)  int_rate  ...  el_10+  el_5-9  el_no value\n",
              "0  68.506402           True  4.967106  ...       1       0            0\n",
              "1  51.674461          False  6.272951  ...       0       0            0\n",
              "2  50.818040           True  6.451747  ...       1       0            0\n",
              "3  90.565486           True  5.794100  ...       1       0            0\n",
              "4  55.670496          False  5.569700  ...       0       0            0\n",
              "\n",
              "[5 rows x 28 columns]"
            ]
          },
          "metadata": {},
          "execution_count": 18
        }
      ]
    },
    {
      "cell_type": "code",
      "source": [
        "num_attr = ['loan_amnt', 'int_rate', 'installment', 'sub_grade',\n",
        "       'annual_inc', 'dti', 'open_acc', 'revol_util',\n",
        "       'days_from_earliest_cr',\n",
        "]\n",
        "\n",
        "cat_attr = ['term_(months)', 'initial_list_status', 'pub_recs', \n",
        "            'ho_MORTGAGE',\n",
        "            'ho_NONE', 'ho_OTHER', 'ho_OWN', 'ho_RENT', 'vs_Not Verified',\n",
        "            'vs_Source Verified', 'vs_Verified', 'purp_credit_card',\n",
        "            'purp_debt_consolidation', 'purp_other', 'el_0-4', 'el_10+', 'el_5-9',\n",
        "            'el_no value'\n",
        "]"
      ],
      "metadata": {
        "id": "buZQ4rF_E_Rh"
      },
      "execution_count": 19,
      "outputs": []
    },
    {
      "cell_type": "code",
      "source": [
        "from sklearn.impute import SimpleImputer\n",
        "\n",
        "median_imputer = SimpleImputer(strategy='median')\n",
        "\n",
        "df[num_attr] = median_imputer.fit_transform(df[num_attr])\n",
        "test_df[num_attr] = median_imputer.transform(test_df[num_attr])"
      ],
      "metadata": {
        "id": "O7q5mvmXFe11"
      },
      "execution_count": 20,
      "outputs": []
    },
    {
      "cell_type": "code",
      "source": [
        "mode_imputer = SimpleImputer(strategy='mode')\n",
        "df[cat_attr] = median_imputer.fit_transform(df[cat_attr])\n",
        "test_df[cat_attr] = median_imputer.transform(test_df[cat_attr])"
      ],
      "metadata": {
        "id": "sDZeHf7iE2H7"
      },
      "execution_count": 21,
      "outputs": []
    },
    {
      "cell_type": "code",
      "source": [
        "test_df['id'] = ids"
      ],
      "metadata": {
        "id": "jWh46uOiKlMp"
      },
      "execution_count": 22,
      "outputs": []
    },
    {
      "cell_type": "code",
      "source": [
        "# normalize numerical attributes\n",
        "mins, maxs = df[num_attr].min(), df[num_attr].max()\n",
        "\n",
        "df[num_attr] = (df[num_attr] - mins) / (maxs - mins)\n",
        "test_df[num_attr] = (test_df[num_attr] - mins) / (maxs - mins)"
      ],
      "metadata": {
        "id": "uojHNFzdKsQ3"
      },
      "execution_count": 23,
      "outputs": []
    },
    {
      "cell_type": "code",
      "source": [
        ""
      ],
      "metadata": {
        "id": "t12IfmKsCgPH"
      },
      "execution_count": 23,
      "outputs": []
    },
    {
      "cell_type": "code",
      "source": [
        "# convert loan status to binary\n",
        "df['loan_status'] = df['loan_status'] == 'Charged Off'"
      ],
      "metadata": {
        "id": "qgnOa5S0Lyip"
      },
      "execution_count": 24,
      "outputs": []
    },
    {
      "cell_type": "code",
      "source": [
        "test_df.drop('loan_status', axis=1, inplace=True)"
      ],
      "metadata": {
        "id": "r6BI66PJewew"
      },
      "execution_count": 25,
      "outputs": []
    },
    {
      "cell_type": "markdown",
      "source": [
        "# Model"
      ],
      "metadata": {
        "id": "Zs93hI4OLiN3"
      }
    },
    {
      "cell_type": "code",
      "source": [
        "from sklearn.ensemble import RandomForestClassifier, AdaBoostClassifier\n",
        "from sklearn.neural_network import MLPClassifier\n",
        "from sklearn.linear_model import LogisticRegression\n",
        "\n",
        "from xgboost import XGBClassifier\n",
        "\n",
        "from sklearn.model_selection import cross_val_score\n",
        "\n",
        "from sklearn.metrics import roc_auc_score\n",
        "\n",
        "n_estimators = 300"
      ],
      "metadata": {
        "id": "GUfvgaaKK3EL"
      },
      "execution_count": 26,
      "outputs": []
    },
    {
      "cell_type": "code",
      "source": [
        "X = df.drop('loan_status', axis=1)\n",
        "y = df['loan_status']"
      ],
      "metadata": {
        "id": "qGldgp6hL_8s"
      },
      "execution_count": 27,
      "outputs": []
    },
    {
      "cell_type": "code",
      "source": [
        ""
      ],
      "metadata": {
        "id": "uyWkjZxddbfS"
      },
      "execution_count": 27,
      "outputs": []
    },
    {
      "cell_type": "code",
      "source": [
        "rfc = RandomForestClassifier(n_estimators=n_estimators, min_samples_leaf=250, class_weight={0: 1, 1: 5})\n",
        "scores = cross_val_score(rfc, X, y, cv=5, scoring='roc_auc')\n",
        "print(scores)\n",
        "print(scores.mean())"
      ],
      "metadata": {
        "colab": {
          "base_uri": "https://localhost:8080/"
        },
        "id": "R641ri55NjRT",
        "outputId": "3e96726d-ce02-4551-d97c-1cd98fe83ee8"
      },
      "execution_count": 28,
      "outputs": [
        {
          "output_type": "stream",
          "name": "stdout",
          "text": [
            "[0.68342929 0.69752224 0.68466362 0.69345837 0.67674431]\n",
            "0.6871635663808184\n"
          ]
        }
      ]
    },
    {
      "cell_type": "code",
      "source": [
        "xgbc = XGBClassifier(n_estimators=n_estimators, max_depth=2, class_weight={0: 1, 1: 5})\n",
        "scores = cross_val_score(xgbc, X, y, cv=5, scoring='roc_auc')\n",
        "print(scores)\n",
        "print(scores.mean())"
      ],
      "metadata": {
        "colab": {
          "base_uri": "https://localhost:8080/"
        },
        "id": "PgOfku0wOyXg",
        "outputId": "357c1740-66cd-4ae7-f14b-e27427d8c310"
      },
      "execution_count": 29,
      "outputs": [
        {
          "output_type": "stream",
          "name": "stdout",
          "text": [
            "[0.68084772 0.69813378 0.68673366 0.69485147 0.67733224]\n",
            "0.6875797731397373\n"
          ]
        }
      ]
    },
    {
      "cell_type": "code",
      "source": [
        "lrc = LogisticRegression(class_weight={0: 1, 1: 5}, max_iter=200)\n",
        "scores = cross_val_score(lrc, X, y, cv=5, scoring='roc_auc')\n",
        "print(scores)\n",
        "print(scores.mean())"
      ],
      "metadata": {
        "colab": {
          "base_uri": "https://localhost:8080/"
        },
        "id": "lokhB_ZkdjP-",
        "outputId": "3ab8c86a-f1c1-4a3c-bd2a-ffdfa31fb0f0"
      },
      "execution_count": 34,
      "outputs": [
        {
          "output_type": "stream",
          "name": "stdout",
          "text": [
            "[0.68233191 0.69773047 0.68418033 0.69180954 0.67646407]\n",
            "0.6865032639214408\n"
          ]
        }
      ]
    },
    {
      "cell_type": "code",
      "source": [
        "def func(x):\n",
        "  return x if x < 0.5 else 1 - x"
      ],
      "metadata": {
        "id": "4pfPP40Ui0b4"
      },
      "execution_count": null,
      "outputs": []
    },
    {
      "cell_type": "code",
      "source": [
        ""
      ],
      "metadata": {
        "id": "zs3PjXMekVMP"
      },
      "execution_count": null,
      "outputs": []
    },
    {
      "cell_type": "code",
      "source": [
        "# submission = pd.DataFrame({'Id': test_df['id'], 'loan_status': charged_off_probs2})\n",
        "# # you could use any filename. We choose submission here\n",
        "# submission.to_csv('submission.csv', index=False)"
      ],
      "metadata": {
        "id": "sQ138AHyd-za"
      },
      "execution_count": null,
      "outputs": []
    }
  ]
}